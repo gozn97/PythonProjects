{
 "cells": [
  {
   "cell_type": "markdown",
   "id": "b0487b9e",
   "metadata": {},
   "source": [
    "# LE FUNZIONI - extra\n",
    "\n",
    "### Ricorsione\n",
    "Alcune funzioni sono dette \"ricorsive\", ossia richiamano se stesse. L'ultima funzione che non ne richiama un'altra è detta \"funzione foglia\".\n",
    "\n",
    "Ad esempio, immaginiamo di voler scrivere una funzione che ritorni il fattoriale di un intero positivo. In questo caso vorremmo $n*n-1*\\cdots*2*1$"
   ]
  },
  {
   "cell_type": "code",
   "execution_count": 1,
   "id": "b9442da7",
   "metadata": {},
   "outputs": [],
   "source": [
    "def fattoriale(n):\n",
    "    if n < 2:\n",
    "        return 1\n",
    "    return n*fattoriale(n-1)"
   ]
  },
  {
   "cell_type": "code",
   "execution_count": 2,
   "id": "0eb0b458",
   "metadata": {},
   "outputs": [
    {
     "data": {
      "text/plain": [
       "24"
      ]
     },
     "execution_count": 2,
     "metadata": {},
     "output_type": "execute_result"
    }
   ],
   "source": [
    "fattoriale(4)"
   ]
  },
  {
   "cell_type": "markdown",
   "id": "d0424df6",
   "metadata": {},
   "source": [
    "Python riesce a notare un caso di ricorsione per ottimizzarlo. Se però se ne abusa, si potrebbe generare un errore. Bisogna quindi decidere se sia più conveniente usare una funzione ricorsiva per leggibilità oppure se usare dei cicli per evitare di occupare troppa memoria. Questo è possibile perché ogni funzione ricorsiva può essere sempre riscritta tramite cicli per renderla non ricorsiva."
   ]
  },
  {
   "cell_type": "code",
   "execution_count": 3,
   "id": "d63f9c19",
   "metadata": {},
   "outputs": [],
   "source": [
    "def conta_c(n):\n",
    "    while n > 0:\n",
    "        #print(n)\n",
    "        n-=1\n",
    "        \n",
    "def conta_r(n):\n",
    "    if n > 0:\n",
    "        #print(n)\n",
    "        conta_r(n-1)"
   ]
  },
  {
   "cell_type": "markdown",
   "id": "3a23e37e",
   "metadata": {},
   "source": [
    "###### Tip: calcolo memoria\n",
    "\n",
    "Per calcolare la memoria usata da una cella, si può usare **%%memit**. Per usarlo, prima si deve installare memory_profiler e va poi caricato come estensione.\n",
    "\n",
    "*N.B. quest'ultimo passaggio non è richiesto normalmente per usare i moduli Python, ma in questo caso stiamo parlando di un'estensione di Jupyter che è un qualcosa di leggermente diverso.*"
   ]
  },
  {
   "cell_type": "code",
   "execution_count": 4,
   "id": "bff6dbd0",
   "metadata": {},
   "outputs": [],
   "source": [
    "# Installazione\n",
    "#(levare '#' quando si runna la prima volta, poi rimetterlo)\n",
    "#!pip install memory_profiler\n",
    "\n",
    "# Caricamento come estensione\n",
    "%load_ext memory_profiler"
   ]
  },
  {
   "cell_type": "code",
   "execution_count": 5,
   "id": "29c27aaf",
   "metadata": {},
   "outputs": [
    {
     "name": "stdout",
     "output_type": "stream",
     "text": [
      "peak memory: 74.41 MiB, increment: 0.68 MiB\n"
     ]
    }
   ],
   "source": [
    "%%memit\n",
    "conta_c(2000)"
   ]
  },
  {
   "cell_type": "code",
   "execution_count": 6,
   "id": "004d5804",
   "metadata": {},
   "outputs": [
    {
     "name": "stdout",
     "output_type": "stream",
     "text": [
      "peak memory: 77.01 MiB, increment: 1.55 MiB\n"
     ]
    }
   ],
   "source": [
    "%%memit\n",
    "conta_r(2000)"
   ]
  },
  {
   "cell_type": "markdown",
   "id": "2f78f31f",
   "metadata": {},
   "source": [
    "### Valori ritornati\n",
    "\n",
    "Le funzioni possono ritornare valori multipli che possono essere spacchettati in più variabili perchè vengono gestiti come tuple.\\\n",
    "Immaginiamo di avere una funzione, f(x), che ritorni due valori: \\\n",
    "***return*** $res1, res2 \\rightarrow v1, v2$.\n",
    "\n",
    "Allora faccio l'unpacking dei risultati come:\n",
    "\n",
    "v1, v2 = func(x)"
   ]
  },
  {
   "cell_type": "markdown",
   "id": "334bba68",
   "metadata": {},
   "source": [
    "### Parametri di input\n",
    "\n",
    "Una funzione può avere più parametri, ai quali si può dare un valore di default. Nella definizione dei parametri, prima si mettono quelli senza valore di default, poi quelli che valore di default e infine abbiamo i parameri di numero variabile *args* e *kwargs*.\n",
    "\n",
    "*def func(p1, p2, p3=default_value3, p4=default_value4, * args , ** kwargs)*\n",
    "\n",
    "dove:\n",
    "- ***args***: sono parametri senza nome divisi da virgola che vengono trattati come una lista;\n",
    "- ***kwargs***: sono parametri con una chiave, cioè passati con la forma *key=value*, e divisi dalla virgola che vengono trattati come un dizionario in cui *key* è la chiave e *value* sarà il suo valore associato.\n",
    "\n",
    "Quando vado però a passarne i valori durante la chiamata, posso esplicitare il nome del parametro e invertire la posizione dei parametri con e senza valori di default."
   ]
  },
  {
   "cell_type": "code",
   "execution_count": 7,
   "id": "7ace18a6",
   "metadata": {},
   "outputs": [],
   "source": [
    "# A) Uso di *args\n",
    "\n",
    "def somma(*interi):\n",
    "    res = 0\n",
    "    for num in interi:\n",
    "        res+=num\n",
    "    return res"
   ]
  },
  {
   "cell_type": "code",
   "execution_count": 8,
   "id": "3f7f4d8f",
   "metadata": {},
   "outputs": [
    {
     "data": {
      "text/plain": [
       "9"
      ]
     },
     "execution_count": 8,
     "metadata": {},
     "output_type": "execute_result"
    }
   ],
   "source": [
    "# Come se passassi:\n",
    "# interi = [1, 2, 6]\n",
    "\n",
    "somma(1, 2, 6)"
   ]
  },
  {
   "cell_type": "code",
   "execution_count": 9,
   "id": "262a2b03",
   "metadata": {},
   "outputs": [],
   "source": [
    "# B) Uso di **kwargs\n",
    "\n",
    "def citta_capitali(**capitali):\n",
    "    for s, c in capitali.items():\n",
    "        print(c, 'è capitale di', s)"
   ]
  },
  {
   "cell_type": "code",
   "execution_count": 10,
   "id": "92e1ae8b",
   "metadata": {},
   "outputs": [
    {
     "name": "stdout",
     "output_type": "stream",
     "text": [
      "Roma è capitale di Italia\n",
      "Madrid è capitale di Spagna\n",
      "Parigi è capitale di Francia\n"
     ]
    }
   ],
   "source": [
    "# Come se passassi:\n",
    "# capitali = {'Italia': Roma', 'Spagna': 'Madrid', 'Francia': 'Parigi'}\n",
    "\n",
    "citta_capitali(Italia='Roma', Spagna='Madrid', Francia='Parigi')"
   ]
  },
  {
   "cell_type": "markdown",
   "id": "204a4a17",
   "metadata": {},
   "source": [
    "### Trattamento delle funzioni in Python\n",
    "\n",
    "In Python, le funzioni possono essere trattate come oggetto. Infatti, possono essere passate come argomento ad altre funzioni o persino salvate in variabili per dare loro un nuovo nome o per maneggiarle meglio."
   ]
  },
  {
   "cell_type": "code",
   "execution_count": 11,
   "id": "9623e611",
   "metadata": {},
   "outputs": [
    {
     "data": {
      "text/plain": [
       "4"
      ]
     },
     "execution_count": 11,
     "metadata": {},
     "output_type": "execute_result"
    }
   ],
   "source": [
    "# Assegnazione a variabile\n",
    "\n",
    "somma_interi = somma\n",
    "somma_interi(1, 3)"
   ]
  },
  {
   "cell_type": "code",
   "execution_count": 12,
   "id": "f5bf22cc",
   "metadata": {},
   "outputs": [
    {
     "data": {
      "text/plain": [
       "(36, 1)"
      ]
     },
     "execution_count": 12,
     "metadata": {},
     "output_type": "execute_result"
    }
   ],
   "source": [
    "# Passaggio ad un'altra funzione\n",
    "\n",
    "def diff(num1, num2):\n",
    "        return num1-num2\n",
    "    \n",
    "def quad_operazione(op_f, n1, n2):\n",
    "    op_res = op_f(n1, n2)\n",
    "    return op_res**2\n",
    "\n",
    "quad_operazione(somma, 1, 5), quad_operazione(diff, 4, 3)"
   ]
  },
  {
   "cell_type": "markdown",
   "id": "a10cf91b",
   "metadata": {},
   "source": [
    "##### Mapping\n",
    "\n",
    "Quando si vuole usare una funzione su ogni singolo elemento di una collezione, posso usare la funzione built-in *map()*. Questa funzione ritorna un oggetto di tipo \"map\". Se per un elemento della collezione, la funzione da applicare restituisce errore, tutto il mapping fallirà.\n",
    "\n",
    "***map***(*funzione_da_applicare, collezione*)"
   ]
  },
  {
   "cell_type": "code",
   "execution_count": 15,
   "id": "b56d9bc9",
   "metadata": {},
   "outputs": [
    {
     "data": {
      "text/plain": [
       "[1, 4, 25]"
      ]
     },
     "execution_count": 15,
     "metadata": {},
     "output_type": "execute_result"
    }
   ],
   "source": [
    "# Applica la funzione di quadrato a ogni elemento in una lista\n",
    "\n",
    "def quad(n):\n",
    "    return n**2\n",
    "\n",
    "list(map(quad, [1, 2, 5]))"
   ]
  },
  {
   "cell_type": "markdown",
   "id": "d3fed694",
   "metadata": {},
   "source": [
    "### Lambda functions $\\lambda$\n",
    "\n",
    "In alcuni casi potremmo necissatare di una funzione composta da una sola istruzione solamente una sola volta, quindi non avrebbe senso darle un nome e salvarla in memoria. Per queste situazioni, possiamo ricorrere alle **lambda** functions, cioè funzioni molto semplici, brevi e \"mono-uso\", in cui abbiamo solo:\n",
    "\n",
    "1. argomenti\n",
    "2. body  (eventuale)\n",
    "3. ritorno\n",
    "\n",
    "Generalmente, si ha un solo argomento, una sola istruzione (*one-line*) e un solo valore ritornato.\n",
    "Il loro nome deriva dalla keyword usata per definirle e vengono anche chiamate \"anonime\" proprio perchè non hanno alcun nome loro associato. Se si vuole associare un nome o riutilizzare ad una lambda function, allora si dovrà salavare in una variabile con il nome desiderato.\n",
    "\n",
    "**lambda** *argomenti **:** ritorno*"
   ]
  },
  {
   "cell_type": "code",
   "execution_count": 28,
   "id": "38ca3948",
   "metadata": {},
   "outputs": [
    {
     "data": {
      "text/plain": [
       "[0.1, 0.2, 0.3, 0.4]"
      ]
     },
     "execution_count": 28,
     "metadata": {},
     "output_type": "execute_result"
    }
   ],
   "source": [
    "# Le funzioni lambda sono utili come argomento di altri funzioni\n",
    "\n",
    "list(map(lambda x: x/10, [1,2,3,4]))"
   ]
  },
  {
   "cell_type": "code",
   "execution_count": 29,
   "id": "79fc02e6",
   "metadata": {},
   "outputs": [
    {
     "data": {
      "text/plain": [
       "function"
      ]
     },
     "execution_count": 29,
     "metadata": {},
     "output_type": "execute_result"
    }
   ],
   "source": [
    "# Le lambda functions sono vere e proprie funzioni\n",
    "\n",
    "type(lambda x: x/10)"
   ]
  },
  {
   "cell_type": "code",
   "execution_count": 31,
   "id": "7de0af86",
   "metadata": {},
   "outputs": [
    {
     "data": {
      "text/plain": [
       "9"
      ]
     },
     "execution_count": 31,
     "metadata": {},
     "output_type": "execute_result"
    }
   ],
   "source": [
    "# Le lambda functions possono essere salvate in variabili\n",
    "\n",
    "quad = lambda x: x**2\n",
    "quad(3)"
   ]
  },
  {
   "cell_type": "code",
   "execution_count": 30,
   "id": "4c62b2c0",
   "metadata": {},
   "outputs": [
    {
     "data": {
      "text/plain": [
       "15"
      ]
     },
     "execution_count": 30,
     "metadata": {},
     "output_type": "execute_result"
    }
   ],
   "source": [
    "# Le lambda functions possono avere argomenti su cui fare unpacking\n",
    "\n",
    "somma = lambda *n: sum(n)\n",
    "somma(1,2,3,4,5)"
   ]
  },
  {
   "cell_type": "code",
   "execution_count": 32,
   "id": "93125ee8",
   "metadata": {},
   "outputs": [
    {
     "data": {
      "text/plain": [
       "8"
      ]
     },
     "execution_count": 32,
     "metadata": {},
     "output_type": "execute_result"
    }
   ],
   "source": [
    "# Le lambda functions possono avere multipli argomenti\n",
    "\n",
    "eleva = lambda b, e: b**e\n",
    "eleva(2,3)"
   ]
  },
  {
   "cell_type": "markdown",
   "id": "60ea8f83",
   "metadata": {},
   "source": [
    "### Asserzione\n",
    "\n",
    "A volte si deve testare il comportamento di alcune routine e, nel caso in cui gli sviluppi siano inaspettati, si poterbbe voler interrompere il programma. In questi casi su usa la keyword **assert** che controlla se una condizione viene rispettata, altrimenti blocca il programma."
   ]
  },
  {
   "cell_type": "code",
   "execution_count": 43,
   "id": "a61cc688",
   "metadata": {},
   "outputs": [
    {
     "name": "stdout",
     "output_type": "stream",
     "text": [
      "<class 'AssertionError'>\n"
     ]
    }
   ],
   "source": [
    "try:\n",
    "    assert 2 in [3,4,5]\n",
    "except Exception as e:\n",
    "    print(e.__class__)"
   ]
  },
  {
   "cell_type": "markdown",
   "id": "327cb0d5",
   "metadata": {},
   "source": [
    "### Built-ins\n",
    "\n",
    "Il modulo $__builtins__$ contiene tutte le funzioni che di \"default\" sono usabili in Python."
   ]
  },
  {
   "cell_type": "code",
   "execution_count": 44,
   "id": "df8d0750",
   "metadata": {},
   "outputs": [
    {
     "data": {
      "text/plain": [
       "['ArithmeticError',\n",
       " 'AssertionError',\n",
       " 'AttributeError',\n",
       " 'BaseException',\n",
       " 'BlockingIOError',\n",
       " 'BrokenPipeError',\n",
       " 'BufferError',\n",
       " 'BytesWarning',\n",
       " 'ChildProcessError',\n",
       " 'ConnectionAbortedError',\n",
       " 'ConnectionError',\n",
       " 'ConnectionRefusedError',\n",
       " 'ConnectionResetError',\n",
       " 'DeprecationWarning',\n",
       " 'EOFError',\n",
       " 'Ellipsis',\n",
       " 'EncodingWarning',\n",
       " 'EnvironmentError',\n",
       " 'Exception',\n",
       " 'False',\n",
       " 'FileExistsError',\n",
       " 'FileNotFoundError',\n",
       " 'FloatingPointError',\n",
       " 'FutureWarning',\n",
       " 'GeneratorExit',\n",
       " 'IOError',\n",
       " 'ImportError',\n",
       " 'ImportWarning',\n",
       " 'IndentationError',\n",
       " 'IndexError',\n",
       " 'InterruptedError',\n",
       " 'IsADirectoryError',\n",
       " 'KeyError',\n",
       " 'KeyboardInterrupt',\n",
       " 'LookupError',\n",
       " 'MemoryError',\n",
       " 'ModuleNotFoundError',\n",
       " 'NameError',\n",
       " 'None',\n",
       " 'NotADirectoryError',\n",
       " 'NotImplemented',\n",
       " 'NotImplementedError',\n",
       " 'OSError',\n",
       " 'OverflowError',\n",
       " 'PendingDeprecationWarning',\n",
       " 'PermissionError',\n",
       " 'ProcessLookupError',\n",
       " 'RecursionError',\n",
       " 'ReferenceError',\n",
       " 'ResourceWarning',\n",
       " 'RuntimeError',\n",
       " 'RuntimeWarning',\n",
       " 'StopAsyncIteration',\n",
       " 'StopIteration',\n",
       " 'SyntaxError',\n",
       " 'SyntaxWarning',\n",
       " 'SystemError',\n",
       " 'SystemExit',\n",
       " 'TabError',\n",
       " 'TimeoutError',\n",
       " 'True',\n",
       " 'TypeError',\n",
       " 'UnboundLocalError',\n",
       " 'UnicodeDecodeError',\n",
       " 'UnicodeEncodeError',\n",
       " 'UnicodeError',\n",
       " 'UnicodeTranslateError',\n",
       " 'UnicodeWarning',\n",
       " 'UserWarning',\n",
       " 'ValueError',\n",
       " 'Warning',\n",
       " 'WindowsError',\n",
       " 'ZeroDivisionError',\n",
       " '__IPYTHON__',\n",
       " '__build_class__',\n",
       " '__debug__',\n",
       " '__doc__',\n",
       " '__import__',\n",
       " '__loader__',\n",
       " '__name__',\n",
       " '__package__',\n",
       " '__spec__',\n",
       " 'abs',\n",
       " 'aiter',\n",
       " 'all',\n",
       " 'anext',\n",
       " 'any',\n",
       " 'ascii',\n",
       " 'bin',\n",
       " 'bool',\n",
       " 'breakpoint',\n",
       " 'bytearray',\n",
       " 'bytes',\n",
       " 'callable',\n",
       " 'chr',\n",
       " 'classmethod',\n",
       " 'compile',\n",
       " 'complex',\n",
       " 'copyright',\n",
       " 'credits',\n",
       " 'delattr',\n",
       " 'dict',\n",
       " 'dir',\n",
       " 'display',\n",
       " 'divmod',\n",
       " 'enumerate',\n",
       " 'eval',\n",
       " 'exec',\n",
       " 'execfile',\n",
       " 'filter',\n",
       " 'float',\n",
       " 'format',\n",
       " 'frozenset',\n",
       " 'get_ipython',\n",
       " 'getattr',\n",
       " 'globals',\n",
       " 'hasattr',\n",
       " 'hash',\n",
       " 'help',\n",
       " 'hex',\n",
       " 'id',\n",
       " 'input',\n",
       " 'int',\n",
       " 'isinstance',\n",
       " 'issubclass',\n",
       " 'iter',\n",
       " 'len',\n",
       " 'license',\n",
       " 'list',\n",
       " 'locals',\n",
       " 'map',\n",
       " 'max',\n",
       " 'memoryview',\n",
       " 'min',\n",
       " 'next',\n",
       " 'object',\n",
       " 'oct',\n",
       " 'open',\n",
       " 'ord',\n",
       " 'pow',\n",
       " 'print',\n",
       " 'property',\n",
       " 'range',\n",
       " 'repr',\n",
       " 'reversed',\n",
       " 'round',\n",
       " 'runfile',\n",
       " 'set',\n",
       " 'setattr',\n",
       " 'slice',\n",
       " 'sorted',\n",
       " 'staticmethod',\n",
       " 'str',\n",
       " 'sum',\n",
       " 'super',\n",
       " 'tuple',\n",
       " 'type',\n",
       " 'vars',\n",
       " 'zip']"
      ]
     },
     "execution_count": 44,
     "metadata": {},
     "output_type": "execute_result"
    }
   ],
   "source": [
    "dir(__builtins__)"
   ]
  },
  {
   "cell_type": "markdown",
   "id": "f695b114",
   "metadata": {},
   "source": [
    "###### help()"
   ]
  },
  {
   "cell_type": "code",
   "execution_count": 60,
   "id": "8e8c1f9f",
   "metadata": {},
   "outputs": [
    {
     "name": "stdout",
     "output_type": "stream",
     "text": [
      "Help on built-in function eval in module builtins:\n",
      "\n",
      "eval(source, globals=None, locals=None, /)\n",
      "    Evaluate the given source in the context of globals and locals.\n",
      "    \n",
      "    The source may be a string representing a Python expression\n",
      "    or a code object as returned by compile().\n",
      "    The globals must be a dictionary and locals can be any mapping,\n",
      "    defaulting to the current globals and locals.\n",
      "    If only globals is given, locals defaults to it.\n",
      "\n"
     ]
    }
   ],
   "source": [
    "# help(oggetto) ci mostra info su un oggetto\n",
    "help(eval)"
   ]
  },
  {
   "cell_type": "markdown",
   "id": "86d5798b",
   "metadata": {},
   "source": [
    "###### eval()"
   ]
  },
  {
   "cell_type": "code",
   "execution_count": 48,
   "id": "9400072a",
   "metadata": {},
   "outputs": [],
   "source": [
    "prog = '2+7+5'"
   ]
  },
  {
   "cell_type": "code",
   "execution_count": 50,
   "id": "0dd09d71",
   "metadata": {},
   "outputs": [
    {
     "data": {
      "text/plain": [
       "('2+7+5', 14)"
      ]
     },
     "execution_count": 50,
     "metadata": {},
     "output_type": "execute_result"
    }
   ],
   "source": [
    "# La funzione eval() interpreta una stringa come codice\n",
    "\n",
    "prog, eval(prog)"
   ]
  },
  {
   "cell_type": "code",
   "execution_count": 52,
   "id": "8c626c1a",
   "metadata": {},
   "outputs": [
    {
     "data": {
      "text/plain": [
       "5"
      ]
     },
     "execution_count": 52,
     "metadata": {},
     "output_type": "execute_result"
    }
   ],
   "source": [
    "# La funzione eval() accetta anche variabili\n",
    "prog2 = 'a + b'\n",
    "eval(prog2, {'a': 2, 'b': 3})"
   ]
  },
  {
   "cell_type": "code",
   "execution_count": 54,
   "id": "7abc0231",
   "metadata": {},
   "outputs": [
    {
     "data": {
      "text/plain": [
       "({'a': 1, 'b': 2}, dict)"
      ]
     },
     "execution_count": 54,
     "metadata": {},
     "output_type": "execute_result"
    }
   ],
   "source": [
    "d = eval(\"{'a':1, 'b':2}\")\n",
    "d, type(d)"
   ]
  },
  {
   "cell_type": "markdown",
   "id": "b23d4644",
   "metadata": {},
   "source": [
    "###### hash()"
   ]
  },
  {
   "cell_type": "code",
   "execution_count": 59,
   "id": "a076a691",
   "metadata": {},
   "outputs": [
    {
     "data": {
      "text/plain": [
       "'0x26d794c2e2f0e0d7'"
      ]
     },
     "execution_count": 59,
     "metadata": {},
     "output_type": "execute_result"
    }
   ],
   "source": [
    "hex(hash('ciao'))"
   ]
  },
  {
   "cell_type": "markdown",
   "id": "5c857fa6",
   "metadata": {},
   "source": [
    "# LE ECCEZIONI"
   ]
  },
  {
   "cell_type": "markdown",
   "id": "7138ba06",
   "metadata": {},
   "source": [
    "Quelli che noi chiamiamo comunemente 'errori', sono in realtà dette 'eccezioni' poiché sono eventi che causano una mancata esecuzione corretta di un programma.\n",
    "\n",
    "Python classifica le eccezioni in tre macro-categorie:\n",
    "1. eccezioni durante il Runtime\n",
    "2. eccezioni programmatiche\n",
    "3. eccezioni sistemiche"
   ]
  },
  {
   "cell_type": "markdown",
   "id": "7620b2b2",
   "metadata": {},
   "source": [
    "#### 1.  Eccezioni a Runtime\n",
    "\n",
    "Queste non possono essere previste perché dipendono dallo stato raggiunto dalla macchina nel momento di esecuzione.\n",
    "\n",
    "*Es. divisione per zero.*"
   ]
  },
  {
   "cell_type": "markdown",
   "id": "30a98d3f",
   "metadata": {},
   "source": [
    "#### 2. Eccezioni programmatiche\n",
    "\n",
    "Sono eccezioni che possono essere previste, dovute a degli errori di programmazione.\n",
    "\n",
    "*Es. Provare ad accedere a un file inesistente.*"
   ]
  },
  {
   "cell_type": "markdown",
   "id": "ac9d77ab",
   "metadata": {},
   "source": [
    "#### 3. Eccezioni sistematiche\n",
    "\n",
    "Nonostante il codice sia corretto, potrebbe capitare che non sia compatibile con il sistema. Ad esempio, la parte hardware della macchina. Questo tipo di eccezioni non può essere controllato.\n",
    "\n",
    "*Es. Spazio di memoria insufficiente.*"
   ]
  }
 ],
 "metadata": {
  "kernelspec": {
   "display_name": "Python 3 (ipykernel)",
   "language": "python",
   "name": "python3"
  },
  "language_info": {
   "codemirror_mode": {
    "name": "ipython",
    "version": 3
   },
   "file_extension": ".py",
   "mimetype": "text/x-python",
   "name": "python",
   "nbconvert_exporter": "python",
   "pygments_lexer": "ipython3",
   "version": "3.10.7"
  }
 },
 "nbformat": 4,
 "nbformat_minor": 5
}
