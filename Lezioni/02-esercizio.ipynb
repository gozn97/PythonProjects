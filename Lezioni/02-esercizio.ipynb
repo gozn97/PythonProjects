{
 "cells": [
  {
   "cell_type": "markdown",
   "id": "8532a75e",
   "metadata": {},
   "source": [
    "# INTRO pt.2"
   ]
  },
  {
   "cell_type": "markdown",
   "id": "cbbec48e",
   "metadata": {},
   "source": [
    "### LISTE"
   ]
  },
  {
   "cell_type": "code",
   "execution_count": 1,
   "id": "a4b2a71b",
   "metadata": {},
   "outputs": [],
   "source": [
    "elenco = [1, 2, 3, 4.5, 'ciao', -2]"
   ]
  },
  {
   "cell_type": "markdown",
   "id": "25da3aca",
   "metadata": {},
   "source": [
    "le liste possono contenere diversi tipi di dato, incluse altre liste.\n",
    "si accede agli elementi tramite indice, che va da 0 a len-1."
   ]
  },
  {
   "cell_type": "code",
   "execution_count": 2,
   "id": "a0856452",
   "metadata": {},
   "outputs": [
    {
     "data": {
      "text/plain": [
       "2"
      ]
     },
     "execution_count": 2,
     "metadata": {},
     "output_type": "execute_result"
    }
   ],
   "source": [
    "elenco[1]"
   ]
  },
  {
   "cell_type": "code",
   "execution_count": 3,
   "id": "ae202416",
   "metadata": {},
   "outputs": [
    {
     "name": "stdout",
     "output_type": "stream",
     "text": [
      "<class 'IndexError'> caused by: list index out of range\n"
     ]
    }
   ],
   "source": [
    "try:\n",
    "    elenco[20]\n",
    "except Exception as e:\n",
    "    print(e.__class__,'caused by:', e)"
   ]
  },
  {
   "cell_type": "code",
   "execution_count": 4,
   "id": "5ae1726a",
   "metadata": {},
   "outputs": [
    {
     "data": {
      "text/plain": [
       "6"
      ]
     },
     "execution_count": 4,
     "metadata": {},
     "output_type": "execute_result"
    }
   ],
   "source": [
    "# per sapere la lunghezza, usare len()\n",
    "len(elenco)"
   ]
  },
  {
   "cell_type": "code",
   "execution_count": 5,
   "id": "3a0eab1f",
   "metadata": {},
   "outputs": [
    {
     "name": "stdout",
     "output_type": "stream",
     "text": [
      "-2 ciao\n",
      "[3, 4.5, 'ciao']\n"
     ]
    }
   ],
   "source": [
    "# slicing and indexing\n",
    "print(elenco[-1], elenco[-2])\n",
    "print(elenco[2:5])"
   ]
  },
  {
   "cell_type": "markdown",
   "id": "e0cd9083",
   "metadata": {},
   "source": [
    "$lista[start:stop:step]$ (start incluso, stop non incluso)\\\n",
    "possibili omissioni:\n",
    "- start $\\rightarrow$ 0\n",
    "- end $\\rightarrow$ len\n",
    "- step $\\rightarrow$ 1"
   ]
  },
  {
   "cell_type": "code",
   "execution_count": 6,
   "id": "3cd24f19",
   "metadata": {},
   "outputs": [
    {
     "data": {
      "text/plain": [
       "[1, 2, 4.5, 'ciao', -2]"
      ]
     },
     "execution_count": 6,
     "metadata": {},
     "output_type": "execute_result"
    }
   ],
   "source": [
    "# concatenazione\n",
    "elenco[:2]+elenco[3:]"
   ]
  },
  {
   "cell_type": "markdown",
   "id": "2b2be8bd",
   "metadata": {},
   "source": [
    "l'operatore : crea una nuova lista, diversa da quella originale.\n",
    "posso quindi creare una copia semplicemente con\\\n",
    "$nuova = vecchia[:]$"
   ]
  },
  {
   "cell_type": "code",
   "execution_count": 7,
   "id": "044a5273",
   "metadata": {},
   "outputs": [
    {
     "name": "stdout",
     "output_type": "stream",
     "text": [
      "2924111560320 2924111584576\n",
      "stessa lista? False\n"
     ]
    }
   ],
   "source": [
    "nuovo_elenco = elenco[:2]+elenco[3:]\n",
    "\n",
    "print(id(elenco), id(nuovo_elenco))\n",
    "print('stessa lista?', id(elenco) == id(nuovo_elenco))"
   ]
  },
  {
   "cell_type": "code",
   "execution_count": 8,
   "id": "51ba1988",
   "metadata": {},
   "outputs": [
    {
     "name": "stdout",
     "output_type": "stream",
     "text": [
      "[1]\n",
      "[1, 2, 3, 4]\n"
     ]
    }
   ],
   "source": [
    "# lista vuota\n",
    "vuota = []\n",
    "\n",
    "# aggiungi un elemento\n",
    "vuota.append(1)\n",
    "print(vuota)\n",
    "\n",
    "# aggiungi più elementi\n",
    "vuota.extend([2, 3, 4])\n",
    "print(vuota)"
   ]
  },
  {
   "cell_type": "code",
   "execution_count": 9,
   "id": "d8f52c2d",
   "metadata": {},
   "outputs": [
    {
     "name": "stdout",
     "output_type": "stream",
     "text": [
      "prima della modifica [1, 2, 3, 4, 2]\n",
      "dopo la modifica [1, 2, 3, 4, 'modifica']\n"
     ]
    }
   ],
   "source": [
    "# modificare un elemento tramite indice\n",
    "vuota.append(2)\n",
    "print('prima della modifica', vuota)\n",
    "vuota[-1] = 'modifica'\n",
    "print('dopo la modifica', vuota)"
   ]
  },
  {
   "cell_type": "code",
   "execution_count": 10,
   "id": "a2d38bef",
   "metadata": {},
   "outputs": [
    {
     "name": "stdout",
     "output_type": "stream",
     "text": [
      "3 [1, 2, 4, 'modifica']\n"
     ]
    }
   ],
   "source": [
    "# rimuovi elemento tramite indice (ultimo per default)\n",
    "print(vuota.pop(2), vuota) "
   ]
  },
  {
   "cell_type": "code",
   "execution_count": 11,
   "id": "9e0ab1cd",
   "metadata": {},
   "outputs": [
    {
     "data": {
      "text/plain": [
       "([1, 2, 4.5, 'ciao', -2], None, [1, 2, 4.5, 'ciao', -2])"
      ]
     },
     "execution_count": 11,
     "metadata": {},
     "output_type": "execute_result"
    }
   ],
   "source": [
    "# rimuovi elemento tramite valore\n",
    "elenco, elenco.remove(3), elenco"
   ]
  },
  {
   "cell_type": "code",
   "execution_count": 12,
   "id": "f1cb9c92",
   "metadata": {},
   "outputs": [
    {
     "data": {
      "text/plain": [
       "2"
      ]
     },
     "execution_count": 12,
     "metadata": {},
     "output_type": "execute_result"
    }
   ],
   "source": [
    "# trova indice di un elemento tramite valore\n",
    "elenco.index(4.5)"
   ]
  },
  {
   "cell_type": "code",
   "execution_count": 13,
   "id": "f0977c06",
   "metadata": {},
   "outputs": [
    {
     "data": {
      "text/plain": [
       "[-2, 'ciao', 4.5, 2, 1]"
      ]
     },
     "execution_count": 13,
     "metadata": {},
     "output_type": "execute_result"
    }
   ],
   "source": [
    "# lista al contrario\n",
    "#   senza creare una copia\n",
    "elenco.reverse()\n",
    "elenco"
   ]
  },
  {
   "cell_type": "code",
   "execution_count": 14,
   "id": "49f28411",
   "metadata": {},
   "outputs": [
    {
     "data": {
      "text/plain": [
       "['a', 'e', 'i', 'o', 'u']"
      ]
     },
     "execution_count": 14,
     "metadata": {},
     "output_type": "execute_result"
    }
   ],
   "source": [
    "# se gli elementi possono essere comparati, la lista si può ordinare\n",
    "#   senza creare una copia\n",
    "vocali = ['e', 'o', 'i', 'a', 'u']\n",
    "vocali.sort()\n",
    "vocali"
   ]
  },
  {
   "cell_type": "markdown",
   "id": "cc1f982a",
   "metadata": {},
   "source": [
    "### FOR-LOOP"
   ]
  },
  {
   "cell_type": "code",
   "execution_count": 15,
   "id": "d42c2ef6",
   "metadata": {},
   "outputs": [
    {
     "name": "stdout",
     "output_type": "stream",
     "text": [
      "-2\n",
      "ciao\n",
      "4.5\n",
      "2\n",
      "1\n"
     ]
    }
   ],
   "source": [
    "# for-loop su una lista\n",
    "for elemento in elenco: \n",
    "    print(elemento)"
   ]
  },
  {
   "cell_type": "code",
   "execution_count": 16,
   "id": "55bb0532",
   "metadata": {},
   "outputs": [
    {
     "name": "stdout",
     "output_type": "stream",
     "text": [
      "0\n",
      "1\n",
      "2\n",
      "3\n",
      "4\n",
      "5\n",
      "6\n",
      "7\n",
      "8\n",
      "9\n"
     ]
    }
   ],
   "source": [
    "# for-loop su un range [a, b)\n",
    "for i in range(10):\n",
    "    print(i)"
   ]
  },
  {
   "cell_type": "markdown",
   "id": "6a21b29e",
   "metadata": {},
   "source": [
    "### range()"
   ]
  },
  {
   "cell_type": "code",
   "execution_count": 17,
   "id": "13f89562",
   "metadata": {},
   "outputs": [
    {
     "data": {
      "text/plain": [
       "[0, 1, 2, 3, 4]"
      ]
     },
     "execution_count": 17,
     "metadata": {},
     "output_type": "execute_result"
    }
   ],
   "source": [
    "# e.g. trovare gli indici di una lista\n",
    "list(range(len(elenco)))"
   ]
  },
  {
   "cell_type": "code",
   "execution_count": 18,
   "id": "26671ad8",
   "metadata": {},
   "outputs": [
    {
     "data": {
      "text/plain": [
       "6"
      ]
     },
     "execution_count": 18,
     "metadata": {},
     "output_type": "execute_result"
    }
   ],
   "source": [
    "sum(range(4)) # --> [0, 3]"
   ]
  },
  {
   "cell_type": "code",
   "execution_count": 19,
   "id": "a9534957",
   "metadata": {},
   "outputs": [
    {
     "data": {
      "text/plain": [
       "(range(0, 10), [0, 1, 2, 3, 4, 5, 6, 7, 8, 9])"
      ]
     },
     "execution_count": 19,
     "metadata": {},
     "output_type": "execute_result"
    }
   ],
   "source": [
    "# range non è una lista in sé\n",
    "range(10), list(range(10))"
   ]
  },
  {
   "cell_type": "code",
   "execution_count": 20,
   "id": "83abbe86",
   "metadata": {},
   "outputs": [
    {
     "data": {
      "text/plain": [
       "[7, 10, 13, 16, 19]"
      ]
     },
     "execution_count": 20,
     "metadata": {},
     "output_type": "execute_result"
    }
   ],
   "source": [
    "# range(start, stop, step) --> [start, stop), per default start = 0\n",
    "list(range(7, 20, 3))"
   ]
  },
  {
   "cell_type": "markdown",
   "id": "37846416",
   "metadata": {},
   "source": [
    "### LIST COMPREHENSION"
   ]
  },
  {
   "cell_type": "code",
   "execution_count": 21,
   "id": "7bb9c631",
   "metadata": {},
   "outputs": [
    {
     "data": {
      "text/plain": [
       "[0, 1, 2, 3, 4, 5, 6, 7, 8, 9]"
      ]
     },
     "execution_count": 21,
     "metadata": {},
     "output_type": "execute_result"
    }
   ],
   "source": [
    "# da 0 a 9\n",
    "l1 = [v for v in range(10)]\n",
    "l1"
   ]
  },
  {
   "cell_type": "code",
   "execution_count": 22,
   "id": "67627a10",
   "metadata": {},
   "outputs": [
    {
     "data": {
      "text/plain": [
       "[1, 3, 5, 7, 9]"
      ]
     },
     "execution_count": 22,
     "metadata": {},
     "output_type": "execute_result"
    }
   ],
   "source": [
    "# da 0 a 9, solo dispari\n",
    "l2 = [v for v in range(10) if v%2]\n",
    "l2"
   ]
  },
  {
   "cell_type": "code",
   "execution_count": 23,
   "id": "24286c3e",
   "metadata": {},
   "outputs": [
    {
     "data": {
      "text/plain": [
       "['0', 1, '0', 3, '0', 5, '0', 7, '0', 9]"
      ]
     },
     "execution_count": 23,
     "metadata": {},
     "output_type": "execute_result"
    }
   ],
   "source": [
    "# da 0 a 9, solo dispari ma con pari messi a 0\n",
    "l2 = [v if v%2 else '0' for v in range(10)]\n",
    "l2"
   ]
  },
  {
   "cell_type": "code",
   "execution_count": 24,
   "id": "f1654403",
   "metadata": {},
   "outputs": [
    {
     "data": {
      "text/plain": [
       "[0, 1, 4, 9, 16, 25, 36, 49, 64, 81]"
      ]
     },
     "execution_count": 24,
     "metadata": {},
     "output_type": "execute_result"
    }
   ],
   "source": [
    "quad = [v**2 for v in l1]\n",
    "quad"
   ]
  },
  {
   "cell_type": "code",
   "execution_count": 25,
   "id": "a99021be",
   "metadata": {},
   "outputs": [
    {
     "data": {
      "text/plain": [
       "[[1, 1, 1, 1, 1],\n",
       " [1, 1, 1, 1, 1],\n",
       " [1, 1, 1, 1, 1],\n",
       " [1, 1, 1, 1, 1],\n",
       " [1, 1, 1, 1, 1]]"
      ]
     },
     "execution_count": 25,
     "metadata": {},
     "output_type": "execute_result"
    }
   ],
   "source": [
    "matrix = [[1 for x in range(5)] for x in range(5)]\n",
    "matrix"
   ]
  },
  {
   "cell_type": "code",
   "execution_count": 26,
   "id": "6b94b109",
   "metadata": {},
   "outputs": [
    {
     "name": "stdout",
     "output_type": "stream",
     "text": [
      "[1, 1, 1, 1, 1]\n",
      "[1, 1, 1, 1, 1]\n",
      "[1, 1, 1, 1, 1]\n",
      "[1, 1, 1, 1, 1]\n",
      "[1, 1, 1, 1, 1]\n"
     ]
    }
   ],
   "source": [
    "for riga in matrix:\n",
    "    print(riga)"
   ]
  },
  {
   "cell_type": "markdown",
   "id": "56687ecf",
   "metadata": {},
   "source": [
    "### ESERCIZI"
   ]
  },
  {
   "cell_type": "markdown",
   "id": "3a11f957",
   "metadata": {},
   "source": [
    "##### ES.1"
   ]
  },
  {
   "cell_type": "code",
   "execution_count": 27,
   "id": "5f357ca2",
   "metadata": {},
   "outputs": [],
   "source": [
    "def crea_matrice(n_dim=4, value=0):\n",
    "    matrix = [[value for x in range(n_dim)] for x in range(n_dim)]\n",
    "    return matrix"
   ]
  },
  {
   "cell_type": "code",
   "execution_count": 28,
   "id": "f1b95317",
   "metadata": {},
   "outputs": [
    {
     "name": "stdout",
     "output_type": "stream",
     "text": [
      "[1, 1, 1]\n",
      "[1, 1, 1]\n",
      "[1, 1, 1]\n"
     ]
    }
   ],
   "source": [
    "m = crea_matrice(3, 1)\n",
    "for riga in m:\n",
    "    print(riga)"
   ]
  },
  {
   "cell_type": "code",
   "execution_count": 3,
   "id": "11a749a5",
   "metadata": {},
   "outputs": [
    {
     "name": "stdout",
     "output_type": "stream",
     "text": [
      "[1, 1, 1, 1]\n",
      "[1, 1, 1, 1]\n",
      "[1, 1, 1, 1]\n",
      "[1, 1, 1, 1]\n"
     ]
    }
   ],
   "source": [
    "n_dim = 4\n",
    "matrix = [[1 for x in range(n_dim)] for x in range(n_dim)]\n",
    "\n",
    "for riga in matrix:\n",
    "    print(riga)"
   ]
  },
  {
   "cell_type": "markdown",
   "id": "d93bdcce",
   "metadata": {},
   "source": [
    "##### ES.2"
   ]
  },
  {
   "cell_type": "code",
   "execution_count": 29,
   "id": "06baaea4",
   "metadata": {},
   "outputs": [
    {
     "name": "stdout",
     "output_type": "stream",
     "text": [
      "[1, 0, 0]\n",
      "[0, 1, 0]\n",
      "[0, 0, 1]\n"
     ]
    }
   ],
   "source": [
    "# CON LIST COMPREHENSION\n",
    "m_id = [[1 if i==j else 0 for i in range(n)] for j in range(n)]\n",
    "for riga in m_id:\n",
    "    print(riga)"
   ]
  },
  {
   "cell_type": "code",
   "execution_count": 30,
   "id": "abd95222",
   "metadata": {},
   "outputs": [
    {
     "name": "stdout",
     "output_type": "stream",
     "text": [
      "[1, 0, 0]\n",
      "[0, 1, 0]\n",
      "[0, 0, 1]\n"
     ]
    }
   ],
   "source": [
    "# ALTERNATIVA 1\n",
    "n = 3\n",
    "m_id = crea_matrice(n, 0)\n",
    "for i in range(n):\n",
    "    m_id[i][i]+=1\n",
    "    \n",
    "for riga in m_id:\n",
    "    print(riga)"
   ]
  },
  {
   "cell_type": "code",
   "execution_count": 31,
   "id": "de69de4f",
   "metadata": {},
   "outputs": [],
   "source": [
    "# ALTERNATIVA 2\n",
    "m_id = []\n",
    "for i in range(n):\n",
    "    new_row = []\n",
    "    for j in range(n):\n",
    "        value = 1 if i==j else 0\n",
    "        new_row.append(value)\n",
    "    m_id.append(new_row)"
   ]
  },
  {
   "cell_type": "code",
   "execution_count": 32,
   "id": "7a4f40e5",
   "metadata": {},
   "outputs": [
    {
     "name": "stdout",
     "output_type": "stream",
     "text": [
      "[1, 0, 0]\n",
      "[0, 1, 0]\n",
      "[0, 0, 1]\n"
     ]
    }
   ],
   "source": [
    "for riga in m_id:\n",
    "    print(riga)"
   ]
  }
 ],
 "metadata": {
  "kernelspec": {
   "display_name": "Python 3 (ipykernel)",
   "language": "python",
   "name": "python3"
  },
  "language_info": {
   "codemirror_mode": {
    "name": "ipython",
    "version": 3
   },
   "file_extension": ".py",
   "mimetype": "text/x-python",
   "name": "python",
   "nbconvert_exporter": "python",
   "pygments_lexer": "ipython3",
   "version": "3.10.7"
  }
 },
 "nbformat": 4,
 "nbformat_minor": 5
}
