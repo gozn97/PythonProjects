{
 "cells": [
  {
   "cell_type": "markdown",
   "id": "15be3fba",
   "metadata": {},
   "source": [
    "# COSTRUTTI SINTATTICI"
   ]
  },
  {
   "cell_type": "markdown",
   "id": "0fe6b4a1",
   "metadata": {},
   "source": [
    "##### La libreria \"random\""
   ]
  },
  {
   "cell_type": "code",
   "execution_count": 1,
   "id": "75e89ed3",
   "metadata": {},
   "outputs": [
    {
     "name": "stdout",
     "output_type": "stream",
     "text": [
      "Help on module random:\n",
      "\n",
      "NAME\n",
      "    random - Random variable generators.\n",
      "\n",
      "MODULE REFERENCE\n",
      "    https://docs.python.org/3.10/library/random.html\n",
      "    \n",
      "    The following documentation is automatically generated from the Python\n",
      "    source files.  It may be incomplete, incorrect or include features that\n",
      "    are considered implementation detail and may vary between Python\n",
      "    implementations.  When in doubt, consult the module reference at the\n",
      "    location listed above.\n",
      "\n",
      "DESCRIPTION\n",
      "        bytes\n",
      "        -----\n",
      "               uniform bytes (values between 0 and 255)\n",
      "    \n",
      "        integers\n",
      "        --------\n",
      "               uniform within range\n",
      "    \n",
      "        sequences\n",
      "        ---------\n",
      "               pick random element\n",
      "               pick random sample\n",
      "               pick weighted random sample\n",
      "               generate random permutation\n",
      "    \n",
      "        distributions on the real line:\n",
      "        ------------------------------\n",
      "               uniform\n",
      "               triangular\n",
      "               normal (Gaussian)\n",
      "               lognormal\n",
      "               negative exponential\n",
      "               gamma\n",
      "               beta\n",
      "               pareto\n",
      "               Weibull\n",
      "    \n",
      "        distributions on the circle (angles 0 to 2pi)\n",
      "        ---------------------------------------------\n",
      "               circular uniform\n",
      "               von Mises\n",
      "    \n",
      "    General notes on the underlying Mersenne Twister core generator:\n",
      "    \n",
      "    * The period is 2**19937-1.\n",
      "    * It is one of the most extensively tested generators in existence.\n",
      "    * The random() method is implemented in C, executes in a single Python step,\n",
      "      and is, therefore, threadsafe.\n",
      "\n",
      "CLASSES\n",
      "    _random.Random(builtins.object)\n",
      "        Random\n",
      "            SystemRandom\n",
      "    \n",
      "    class Random(_random.Random)\n",
      "     |  Random(x=None)\n",
      "     |  \n",
      "     |  Random number generator base class used by bound module functions.\n",
      "     |  \n",
      "     |  Used to instantiate instances of Random to get generators that don't\n",
      "     |  share state.\n",
      "     |  \n",
      "     |  Class Random can also be subclassed if you want to use a different basic\n",
      "     |  generator of your own devising: in that case, override the following\n",
      "     |  methods:  random(), seed(), getstate(), and setstate().\n",
      "     |  Optionally, implement a getrandbits() method so that randrange()\n",
      "     |  can cover arbitrarily large ranges.\n",
      "     |  \n",
      "     |  Method resolution order:\n",
      "     |      Random\n",
      "     |      _random.Random\n",
      "     |      builtins.object\n",
      "     |  \n",
      "     |  Methods defined here:\n",
      "     |  \n",
      "     |  __getstate__(self)\n",
      "     |      # Issue 17489: Since __reduce__ was defined to fix #759889 this is no\n",
      "     |      # longer called; we leave it here because it has been here since random was\n",
      "     |      # rewritten back in 2001 and why risk breaking something.\n",
      "     |  \n",
      "     |  __init__(self, x=None)\n",
      "     |      Initialize an instance.\n",
      "     |      \n",
      "     |      Optional argument x controls seeding, as for Random.seed().\n",
      "     |  \n",
      "     |  __reduce__(self)\n",
      "     |      Helper for pickle.\n",
      "     |  \n",
      "     |  __setstate__(self, state)\n",
      "     |  \n",
      "     |  betavariate(self, alpha, beta)\n",
      "     |      Beta distribution.\n",
      "     |      \n",
      "     |      Conditions on the parameters are alpha > 0 and beta > 0.\n",
      "     |      Returned values range between 0 and 1.\n",
      "     |  \n",
      "     |  choice(self, seq)\n",
      "     |      Choose a random element from a non-empty sequence.\n",
      "     |  \n",
      "     |  choices(self, population, weights=None, *, cum_weights=None, k=1)\n",
      "     |      Return a k sized list of population elements chosen with replacement.\n",
      "     |      \n",
      "     |      If the relative weights or cumulative weights are not specified,\n",
      "     |      the selections are made with equal probability.\n",
      "     |  \n",
      "     |  expovariate(self, lambd)\n",
      "     |      Exponential distribution.\n",
      "     |      \n",
      "     |      lambd is 1.0 divided by the desired mean.  It should be\n",
      "     |      nonzero.  (The parameter would be called \"lambda\", but that is\n",
      "     |      a reserved word in Python.)  Returned values range from 0 to\n",
      "     |      positive infinity if lambd is positive, and from negative\n",
      "     |      infinity to 0 if lambd is negative.\n",
      "     |  \n",
      "     |  gammavariate(self, alpha, beta)\n",
      "     |      Gamma distribution.  Not the gamma function!\n",
      "     |      \n",
      "     |      Conditions on the parameters are alpha > 0 and beta > 0.\n",
      "     |      \n",
      "     |      The probability distribution function is:\n",
      "     |      \n",
      "     |                  x ** (alpha - 1) * math.exp(-x / beta)\n",
      "     |        pdf(x) =  --------------------------------------\n",
      "     |                    math.gamma(alpha) * beta ** alpha\n",
      "     |  \n",
      "     |  gauss(self, mu, sigma)\n",
      "     |      Gaussian distribution.\n",
      "     |      \n",
      "     |      mu is the mean, and sigma is the standard deviation.  This is\n",
      "     |      slightly faster than the normalvariate() function.\n",
      "     |      \n",
      "     |      Not thread-safe without a lock around calls.\n",
      "     |  \n",
      "     |  getstate(self)\n",
      "     |      Return internal state; can be passed to setstate() later.\n",
      "     |  \n",
      "     |  lognormvariate(self, mu, sigma)\n",
      "     |      Log normal distribution.\n",
      "     |      \n",
      "     |      If you take the natural logarithm of this distribution, you'll get a\n",
      "     |      normal distribution with mean mu and standard deviation sigma.\n",
      "     |      mu can have any value, and sigma must be greater than zero.\n",
      "     |  \n",
      "     |  normalvariate(self, mu, sigma)\n",
      "     |      Normal distribution.\n",
      "     |      \n",
      "     |      mu is the mean, and sigma is the standard deviation.\n",
      "     |  \n",
      "     |  paretovariate(self, alpha)\n",
      "     |      Pareto distribution.  alpha is the shape parameter.\n",
      "     |  \n",
      "     |  randbytes(self, n)\n",
      "     |      Generate n random bytes.\n",
      "     |  \n",
      "     |  randint(self, a, b)\n",
      "     |      Return random integer in range [a, b], including both end points.\n",
      "     |  \n",
      "     |  randrange(self, start, stop=None, step=1)\n",
      "     |      Choose a random item from range(start, stop[, step]).\n",
      "     |      \n",
      "     |      This fixes the problem with randint() which includes the\n",
      "     |      endpoint; in Python this is usually not what you want.\n",
      "     |  \n",
      "     |  sample(self, population, k, *, counts=None)\n",
      "     |      Chooses k unique random elements from a population sequence or set.\n",
      "     |      \n",
      "     |      Returns a new list containing elements from the population while\n",
      "     |      leaving the original population unchanged.  The resulting list is\n",
      "     |      in selection order so that all sub-slices will also be valid random\n",
      "     |      samples.  This allows raffle winners (the sample) to be partitioned\n",
      "     |      into grand prize and second place winners (the subslices).\n",
      "     |      \n",
      "     |      Members of the population need not be hashable or unique.  If the\n",
      "     |      population contains repeats, then each occurrence is a possible\n",
      "     |      selection in the sample.\n",
      "     |      \n",
      "     |      Repeated elements can be specified one at a time or with the optional\n",
      "     |      counts parameter.  For example:\n",
      "     |      \n",
      "     |          sample(['red', 'blue'], counts=[4, 2], k=5)\n",
      "     |      \n",
      "     |      is equivalent to:\n",
      "     |      \n",
      "     |          sample(['red', 'red', 'red', 'red', 'blue', 'blue'], k=5)\n",
      "     |      \n",
      "     |      To choose a sample from a range of integers, use range() for the\n",
      "     |      population argument.  This is especially fast and space efficient\n",
      "     |      for sampling from a large population:\n",
      "     |      \n",
      "     |          sample(range(10000000), 60)\n",
      "     |  \n",
      "     |  seed(self, a=None, version=2)\n",
      "     |      Initialize internal state from a seed.\n",
      "     |      \n",
      "     |      The only supported seed types are None, int, float,\n",
      "     |      str, bytes, and bytearray.\n",
      "     |      \n",
      "     |      None or no argument seeds from current time or from an operating\n",
      "     |      system specific randomness source if available.\n",
      "     |      \n",
      "     |      If *a* is an int, all bits are used.\n",
      "     |      \n",
      "     |      For version 2 (the default), all of the bits are used if *a* is a str,\n",
      "     |      bytes, or bytearray.  For version 1 (provided for reproducing random\n",
      "     |      sequences from older versions of Python), the algorithm for str and\n",
      "     |      bytes generates a narrower range of seeds.\n",
      "     |  \n",
      "     |  setstate(self, state)\n",
      "     |      Restore internal state from object returned by getstate().\n",
      "     |  \n",
      "     |  shuffle(self, x, random=None)\n",
      "     |      Shuffle list x in place, and return None.\n",
      "     |      \n",
      "     |      Optional argument random is a 0-argument function returning a\n",
      "     |      random float in [0.0, 1.0); if it is the default None, the\n",
      "     |      standard random.random will be used.\n",
      "     |  \n",
      "     |  triangular(self, low=0.0, high=1.0, mode=None)\n",
      "     |      Triangular distribution.\n",
      "     |      \n",
      "     |      Continuous distribution bounded by given lower and upper limits,\n",
      "     |      and having a given mode value in-between.\n",
      "     |      \n",
      "     |      http://en.wikipedia.org/wiki/Triangular_distribution\n",
      "     |  \n",
      "     |  uniform(self, a, b)\n",
      "     |      Get a random number in the range [a, b) or [a, b] depending on rounding.\n",
      "     |  \n",
      "     |  vonmisesvariate(self, mu, kappa)\n",
      "     |      Circular data distribution.\n",
      "     |      \n",
      "     |      mu is the mean angle, expressed in radians between 0 and 2*pi, and\n",
      "     |      kappa is the concentration parameter, which must be greater than or\n",
      "     |      equal to zero.  If kappa is equal to zero, this distribution reduces\n",
      "     |      to a uniform random angle over the range 0 to 2*pi.\n",
      "     |  \n",
      "     |  weibullvariate(self, alpha, beta)\n",
      "     |      Weibull distribution.\n",
      "     |      \n",
      "     |      alpha is the scale parameter and beta is the shape parameter.\n",
      "     |  \n",
      "     |  ----------------------------------------------------------------------\n",
      "     |  Class methods defined here:\n",
      "     |  \n",
      "     |  __init_subclass__(**kwargs) from builtins.type\n",
      "     |      Control how subclasses generate random integers.\n",
      "     |      \n",
      "     |      The algorithm a subclass can use depends on the random() and/or\n",
      "     |      getrandbits() implementation available to it and determines\n",
      "     |      whether it can generate random integers from arbitrarily large\n",
      "     |      ranges.\n",
      "     |  \n",
      "     |  ----------------------------------------------------------------------\n",
      "     |  Data descriptors defined here:\n",
      "     |  \n",
      "     |  __dict__\n",
      "     |      dictionary for instance variables (if defined)\n",
      "     |  \n",
      "     |  __weakref__\n",
      "     |      list of weak references to the object (if defined)\n",
      "     |  \n",
      "     |  ----------------------------------------------------------------------\n",
      "     |  Data and other attributes defined here:\n",
      "     |  \n",
      "     |  VERSION = 3\n",
      "     |  \n",
      "     |  ----------------------------------------------------------------------\n",
      "     |  Methods inherited from _random.Random:\n",
      "     |  \n",
      "     |  getrandbits(self, k, /)\n",
      "     |      getrandbits(k) -> x.  Generates an int with k random bits.\n",
      "     |  \n",
      "     |  random(self, /)\n",
      "     |      random() -> x in the interval [0, 1).\n",
      "     |  \n",
      "     |  ----------------------------------------------------------------------\n",
      "     |  Static methods inherited from _random.Random:\n",
      "     |  \n",
      "     |  __new__(*args, **kwargs) from builtins.type\n",
      "     |      Create and return a new object.  See help(type) for accurate signature.\n",
      "    \n",
      "    class SystemRandom(Random)\n",
      "     |  SystemRandom(x=None)\n",
      "     |  \n",
      "     |  Alternate random number generator using sources provided\n",
      "     |  by the operating system (such as /dev/urandom on Unix or\n",
      "     |  CryptGenRandom on Windows).\n",
      "     |  \n",
      "     |   Not available on all systems (see os.urandom() for details).\n",
      "     |  \n",
      "     |  Method resolution order:\n",
      "     |      SystemRandom\n",
      "     |      Random\n",
      "     |      _random.Random\n",
      "     |      builtins.object\n",
      "     |  \n",
      "     |  Methods defined here:\n",
      "     |  \n",
      "     |  getrandbits(self, k)\n",
      "     |      getrandbits(k) -> x.  Generates an int with k random bits.\n",
      "     |  \n",
      "     |  getstate = _notimplemented(self, *args, **kwds)\n",
      "     |  \n",
      "     |  randbytes(self, n)\n",
      "     |      Generate n random bytes.\n",
      "     |  \n",
      "     |  random(self)\n",
      "     |      Get the next random number in the range [0.0, 1.0).\n",
      "     |  \n",
      "     |  seed(self, *args, **kwds)\n",
      "     |      Stub method.  Not used for a system random number generator.\n",
      "     |  \n",
      "     |  setstate = _notimplemented(self, *args, **kwds)\n",
      "     |  \n",
      "     |  ----------------------------------------------------------------------\n",
      "     |  Methods inherited from Random:\n",
      "     |  \n",
      "     |  __getstate__(self)\n",
      "     |      # Issue 17489: Since __reduce__ was defined to fix #759889 this is no\n",
      "     |      # longer called; we leave it here because it has been here since random was\n",
      "     |      # rewritten back in 2001 and why risk breaking something.\n",
      "     |  \n",
      "     |  __init__(self, x=None)\n",
      "     |      Initialize an instance.\n",
      "     |      \n",
      "     |      Optional argument x controls seeding, as for Random.seed().\n",
      "     |  \n",
      "     |  __reduce__(self)\n",
      "     |      Helper for pickle.\n",
      "     |  \n",
      "     |  __setstate__(self, state)\n",
      "     |  \n",
      "     |  betavariate(self, alpha, beta)\n",
      "     |      Beta distribution.\n",
      "     |      \n",
      "     |      Conditions on the parameters are alpha > 0 and beta > 0.\n",
      "     |      Returned values range between 0 and 1.\n",
      "     |  \n",
      "     |  choice(self, seq)\n",
      "     |      Choose a random element from a non-empty sequence.\n",
      "     |  \n",
      "     |  choices(self, population, weights=None, *, cum_weights=None, k=1)\n",
      "     |      Return a k sized list of population elements chosen with replacement.\n",
      "     |      \n",
      "     |      If the relative weights or cumulative weights are not specified,\n",
      "     |      the selections are made with equal probability.\n",
      "     |  \n",
      "     |  expovariate(self, lambd)\n",
      "     |      Exponential distribution.\n",
      "     |      \n",
      "     |      lambd is 1.0 divided by the desired mean.  It should be\n",
      "     |      nonzero.  (The parameter would be called \"lambda\", but that is\n",
      "     |      a reserved word in Python.)  Returned values range from 0 to\n",
      "     |      positive infinity if lambd is positive, and from negative\n",
      "     |      infinity to 0 if lambd is negative.\n",
      "     |  \n",
      "     |  gammavariate(self, alpha, beta)\n",
      "     |      Gamma distribution.  Not the gamma function!\n",
      "     |      \n",
      "     |      Conditions on the parameters are alpha > 0 and beta > 0.\n",
      "     |      \n",
      "     |      The probability distribution function is:\n",
      "     |      \n",
      "     |                  x ** (alpha - 1) * math.exp(-x / beta)\n",
      "     |        pdf(x) =  --------------------------------------\n",
      "     |                    math.gamma(alpha) * beta ** alpha\n",
      "     |  \n",
      "     |  gauss(self, mu, sigma)\n",
      "     |      Gaussian distribution.\n",
      "     |      \n",
      "     |      mu is the mean, and sigma is the standard deviation.  This is\n",
      "     |      slightly faster than the normalvariate() function.\n",
      "     |      \n",
      "     |      Not thread-safe without a lock around calls.\n",
      "     |  \n",
      "     |  lognormvariate(self, mu, sigma)\n",
      "     |      Log normal distribution.\n",
      "     |      \n",
      "     |      If you take the natural logarithm of this distribution, you'll get a\n",
      "     |      normal distribution with mean mu and standard deviation sigma.\n",
      "     |      mu can have any value, and sigma must be greater than zero.\n",
      "     |  \n",
      "     |  normalvariate(self, mu, sigma)\n",
      "     |      Normal distribution.\n",
      "     |      \n",
      "     |      mu is the mean, and sigma is the standard deviation.\n",
      "     |  \n",
      "     |  paretovariate(self, alpha)\n",
      "     |      Pareto distribution.  alpha is the shape parameter.\n",
      "     |  \n",
      "     |  randint(self, a, b)\n",
      "     |      Return random integer in range [a, b], including both end points.\n",
      "     |  \n",
      "     |  randrange(self, start, stop=None, step=1)\n",
      "     |      Choose a random item from range(start, stop[, step]).\n",
      "     |      \n",
      "     |      This fixes the problem with randint() which includes the\n",
      "     |      endpoint; in Python this is usually not what you want.\n",
      "     |  \n",
      "     |  sample(self, population, k, *, counts=None)\n",
      "     |      Chooses k unique random elements from a population sequence or set.\n",
      "     |      \n",
      "     |      Returns a new list containing elements from the population while\n",
      "     |      leaving the original population unchanged.  The resulting list is\n",
      "     |      in selection order so that all sub-slices will also be valid random\n",
      "     |      samples.  This allows raffle winners (the sample) to be partitioned\n",
      "     |      into grand prize and second place winners (the subslices).\n",
      "     |      \n",
      "     |      Members of the population need not be hashable or unique.  If the\n",
      "     |      population contains repeats, then each occurrence is a possible\n",
      "     |      selection in the sample.\n",
      "     |      \n",
      "     |      Repeated elements can be specified one at a time or with the optional\n",
      "     |      counts parameter.  For example:\n",
      "     |      \n",
      "     |          sample(['red', 'blue'], counts=[4, 2], k=5)\n",
      "     |      \n",
      "     |      is equivalent to:\n",
      "     |      \n",
      "     |          sample(['red', 'red', 'red', 'red', 'blue', 'blue'], k=5)\n",
      "     |      \n",
      "     |      To choose a sample from a range of integers, use range() for the\n",
      "     |      population argument.  This is especially fast and space efficient\n",
      "     |      for sampling from a large population:\n",
      "     |      \n",
      "     |          sample(range(10000000), 60)\n",
      "     |  \n",
      "     |  shuffle(self, x, random=None)\n",
      "     |      Shuffle list x in place, and return None.\n",
      "     |      \n",
      "     |      Optional argument random is a 0-argument function returning a\n",
      "     |      random float in [0.0, 1.0); if it is the default None, the\n",
      "     |      standard random.random will be used.\n",
      "     |  \n",
      "     |  triangular(self, low=0.0, high=1.0, mode=None)\n",
      "     |      Triangular distribution.\n",
      "     |      \n",
      "     |      Continuous distribution bounded by given lower and upper limits,\n",
      "     |      and having a given mode value in-between.\n",
      "     |      \n",
      "     |      http://en.wikipedia.org/wiki/Triangular_distribution\n",
      "     |  \n",
      "     |  uniform(self, a, b)\n",
      "     |      Get a random number in the range [a, b) or [a, b] depending on rounding.\n",
      "     |  \n",
      "     |  vonmisesvariate(self, mu, kappa)\n",
      "     |      Circular data distribution.\n",
      "     |      \n",
      "     |      mu is the mean angle, expressed in radians between 0 and 2*pi, and\n",
      "     |      kappa is the concentration parameter, which must be greater than or\n",
      "     |      equal to zero.  If kappa is equal to zero, this distribution reduces\n",
      "     |      to a uniform random angle over the range 0 to 2*pi.\n",
      "     |  \n",
      "     |  weibullvariate(self, alpha, beta)\n",
      "     |      Weibull distribution.\n",
      "     |      \n",
      "     |      alpha is the scale parameter and beta is the shape parameter.\n",
      "     |  \n",
      "     |  ----------------------------------------------------------------------\n",
      "     |  Class methods inherited from Random:\n",
      "     |  \n",
      "     |  __init_subclass__(**kwargs) from builtins.type\n",
      "     |      Control how subclasses generate random integers.\n",
      "     |      \n",
      "     |      The algorithm a subclass can use depends on the random() and/or\n",
      "     |      getrandbits() implementation available to it and determines\n",
      "     |      whether it can generate random integers from arbitrarily large\n",
      "     |      ranges.\n",
      "     |  \n",
      "     |  ----------------------------------------------------------------------\n",
      "     |  Data descriptors inherited from Random:\n",
      "     |  \n",
      "     |  __dict__\n",
      "     |      dictionary for instance variables (if defined)\n",
      "     |  \n",
      "     |  __weakref__\n",
      "     |      list of weak references to the object (if defined)\n",
      "     |  \n",
      "     |  ----------------------------------------------------------------------\n",
      "     |  Data and other attributes inherited from Random:\n",
      "     |  \n",
      "     |  VERSION = 3\n",
      "     |  \n",
      "     |  ----------------------------------------------------------------------\n",
      "     |  Static methods inherited from _random.Random:\n",
      "     |  \n",
      "     |  __new__(*args, **kwargs) from builtins.type\n",
      "     |      Create and return a new object.  See help(type) for accurate signature.\n",
      "\n",
      "FUNCTIONS\n",
      "    betavariate(alpha, beta) method of Random instance\n",
      "        Beta distribution.\n",
      "        \n",
      "        Conditions on the parameters are alpha > 0 and beta > 0.\n",
      "        Returned values range between 0 and 1.\n",
      "    \n",
      "    choice(seq) method of Random instance\n",
      "        Choose a random element from a non-empty sequence.\n",
      "    \n",
      "    choices(population, weights=None, *, cum_weights=None, k=1) method of Random instance\n",
      "        Return a k sized list of population elements chosen with replacement.\n",
      "        \n",
      "        If the relative weights or cumulative weights are not specified,\n",
      "        the selections are made with equal probability.\n",
      "    \n",
      "    expovariate(lambd) method of Random instance\n",
      "        Exponential distribution.\n",
      "        \n",
      "        lambd is 1.0 divided by the desired mean.  It should be\n",
      "        nonzero.  (The parameter would be called \"lambda\", but that is\n",
      "        a reserved word in Python.)  Returned values range from 0 to\n",
      "        positive infinity if lambd is positive, and from negative\n",
      "        infinity to 0 if lambd is negative.\n",
      "    \n",
      "    gammavariate(alpha, beta) method of Random instance\n",
      "        Gamma distribution.  Not the gamma function!\n",
      "        \n",
      "        Conditions on the parameters are alpha > 0 and beta > 0.\n",
      "        \n",
      "        The probability distribution function is:\n",
      "        \n",
      "                    x ** (alpha - 1) * math.exp(-x / beta)\n",
      "          pdf(x) =  --------------------------------------\n",
      "                      math.gamma(alpha) * beta ** alpha\n",
      "    \n",
      "    gauss(mu, sigma) method of Random instance\n",
      "        Gaussian distribution.\n",
      "        \n",
      "        mu is the mean, and sigma is the standard deviation.  This is\n",
      "        slightly faster than the normalvariate() function.\n",
      "        \n",
      "        Not thread-safe without a lock around calls.\n",
      "    \n",
      "    getrandbits(k, /) method of Random instance\n",
      "        getrandbits(k) -> x.  Generates an int with k random bits.\n",
      "    \n",
      "    getstate() method of Random instance\n",
      "        Return internal state; can be passed to setstate() later.\n",
      "    \n",
      "    lognormvariate(mu, sigma) method of Random instance\n",
      "        Log normal distribution.\n",
      "        \n",
      "        If you take the natural logarithm of this distribution, you'll get a\n",
      "        normal distribution with mean mu and standard deviation sigma.\n",
      "        mu can have any value, and sigma must be greater than zero.\n",
      "    \n",
      "    normalvariate(mu, sigma) method of Random instance\n",
      "        Normal distribution.\n",
      "        \n",
      "        mu is the mean, and sigma is the standard deviation.\n",
      "    \n",
      "    paretovariate(alpha) method of Random instance\n",
      "        Pareto distribution.  alpha is the shape parameter.\n",
      "    \n",
      "    randbytes(n) method of Random instance\n",
      "        Generate n random bytes.\n",
      "    \n",
      "    randint(a, b) method of Random instance\n",
      "        Return random integer in range [a, b], including both end points.\n",
      "    \n",
      "    random() method of Random instance\n",
      "        random() -> x in the interval [0, 1).\n",
      "    \n",
      "    randrange(start, stop=None, step=1) method of Random instance\n",
      "        Choose a random item from range(start, stop[, step]).\n",
      "        \n",
      "        This fixes the problem with randint() which includes the\n",
      "        endpoint; in Python this is usually not what you want.\n",
      "    \n",
      "    sample(population, k, *, counts=None) method of Random instance\n",
      "        Chooses k unique random elements from a population sequence or set.\n",
      "        \n",
      "        Returns a new list containing elements from the population while\n",
      "        leaving the original population unchanged.  The resulting list is\n",
      "        in selection order so that all sub-slices will also be valid random\n",
      "        samples.  This allows raffle winners (the sample) to be partitioned\n",
      "        into grand prize and second place winners (the subslices).\n",
      "        \n",
      "        Members of the population need not be hashable or unique.  If the\n",
      "        population contains repeats, then each occurrence is a possible\n",
      "        selection in the sample.\n",
      "        \n",
      "        Repeated elements can be specified one at a time or with the optional\n",
      "        counts parameter.  For example:\n",
      "        \n",
      "            sample(['red', 'blue'], counts=[4, 2], k=5)\n",
      "        \n",
      "        is equivalent to:\n",
      "        \n",
      "            sample(['red', 'red', 'red', 'red', 'blue', 'blue'], k=5)\n",
      "        \n",
      "        To choose a sample from a range of integers, use range() for the\n",
      "        population argument.  This is especially fast and space efficient\n",
      "        for sampling from a large population:\n",
      "        \n",
      "            sample(range(10000000), 60)\n",
      "    \n",
      "    seed(a=None, version=2) method of Random instance\n",
      "        Initialize internal state from a seed.\n",
      "        \n",
      "        The only supported seed types are None, int, float,\n",
      "        str, bytes, and bytearray.\n",
      "        \n",
      "        None or no argument seeds from current time or from an operating\n",
      "        system specific randomness source if available.\n",
      "        \n",
      "        If *a* is an int, all bits are used.\n",
      "        \n",
      "        For version 2 (the default), all of the bits are used if *a* is a str,\n",
      "        bytes, or bytearray.  For version 1 (provided for reproducing random\n",
      "        sequences from older versions of Python), the algorithm for str and\n",
      "        bytes generates a narrower range of seeds.\n",
      "    \n",
      "    setstate(state) method of Random instance\n",
      "        Restore internal state from object returned by getstate().\n",
      "    \n",
      "    shuffle(x, random=None) method of Random instance\n",
      "        Shuffle list x in place, and return None.\n",
      "        \n",
      "        Optional argument random is a 0-argument function returning a\n",
      "        random float in [0.0, 1.0); if it is the default None, the\n",
      "        standard random.random will be used.\n",
      "    \n",
      "    triangular(low=0.0, high=1.0, mode=None) method of Random instance\n",
      "        Triangular distribution.\n",
      "        \n",
      "        Continuous distribution bounded by given lower and upper limits,\n",
      "        and having a given mode value in-between.\n",
      "        \n",
      "        http://en.wikipedia.org/wiki/Triangular_distribution\n",
      "    \n",
      "    uniform(a, b) method of Random instance\n",
      "        Get a random number in the range [a, b) or [a, b] depending on rounding.\n",
      "    \n",
      "    vonmisesvariate(mu, kappa) method of Random instance\n",
      "        Circular data distribution.\n",
      "        \n",
      "        mu is the mean angle, expressed in radians between 0 and 2*pi, and\n",
      "        kappa is the concentration parameter, which must be greater than or\n",
      "        equal to zero.  If kappa is equal to zero, this distribution reduces\n",
      "        to a uniform random angle over the range 0 to 2*pi.\n",
      "    \n",
      "    weibullvariate(alpha, beta) method of Random instance\n",
      "        Weibull distribution.\n",
      "        \n",
      "        alpha is the scale parameter and beta is the shape parameter.\n",
      "\n",
      "DATA\n",
      "    __all__ = ['Random', 'SystemRandom', 'betavariate', 'choice', 'choices...\n",
      "\n",
      "FILE\n",
      "    c:\\program files\\windowsapps\\pythonsoftwarefoundation.python.3.10_3.10.2032.0_x64__qbz5n2kfra8p0\\lib\\random.py\n",
      "\n",
      "\n"
     ]
    }
   ],
   "source": [
    "import random\n",
    "\n",
    "#questa è libreria per lavorare con i numeri random\n",
    "help(random)"
   ]
  },
  {
   "cell_type": "code",
   "execution_count": 2,
   "id": "7e5e6708",
   "metadata": {},
   "outputs": [
    {
     "data": {
      "text/plain": [
       "0.6872399187866935"
      ]
     },
     "execution_count": 2,
     "metadata": {},
     "output_type": "execute_result"
    }
   ],
   "source": [
    "# per usare una funzione della libreria: nome_lib.nome_func()\n",
    "\n",
    "# float pseudorandomico\n",
    "random.random()"
   ]
  },
  {
   "cell_type": "code",
   "execution_count": 3,
   "id": "5918e933",
   "metadata": {},
   "outputs": [
    {
     "data": {
      "text/plain": [
       "1"
      ]
     },
     "execution_count": 3,
     "metadata": {},
     "output_type": "execute_result"
    }
   ],
   "source": [
    "# intero pseudorandomico da un range\n",
    "random.randint(0,10)"
   ]
  },
  {
   "cell_type": "code",
   "execution_count": 4,
   "id": "7bb2116f",
   "metadata": {},
   "outputs": [
    {
     "data": {
      "text/plain": [
       "25"
      ]
     },
     "execution_count": 4,
     "metadata": {},
     "output_type": "execute_result"
    }
   ],
   "source": [
    "# random da un range\n",
    "random.randrange(4,32,7)"
   ]
  },
  {
   "cell_type": "code",
   "execution_count": 5,
   "id": "bfc78364",
   "metadata": {},
   "outputs": [
    {
     "data": {
      "text/plain": [
       "1.2794148166396906"
      ]
     },
     "execution_count": 5,
     "metadata": {},
     "output_type": "execute_result"
    }
   ],
   "source": [
    "# random da distribuzuine gaussiana\n",
    "random.gauss(1,0.5)"
   ]
  },
  {
   "cell_type": "code",
   "execution_count": 6,
   "id": "a91771ff",
   "metadata": {},
   "outputs": [
    {
     "data": {
      "text/plain": [
       "0.8757786772104948"
      ]
     },
     "execution_count": 6,
     "metadata": {},
     "output_type": "execute_result"
    }
   ],
   "source": [
    "# random da distribuzuine normale\n",
    "random.normalvariate(1,0.5)"
   ]
  },
  {
   "cell_type": "markdown",
   "id": "d6efc16f",
   "metadata": {},
   "source": [
    "###### Con list comprehension\n",
    "\n",
    "Molto spesso, quando uso le list comprehension, il parametro che viene modificato dal *ciclo for* viene usato nella funzione che sto chiamando.\n",
    "- [*func(**i**)* for **i** in range(n)]\n",
    "\n",
    "Posso utilizzare la list comprehension anche per funzioni che **non** richiedono un parametro che dipenda dal ciclo for. In questo caso, uso il for semplicemente per richiamare la funzione più volte.\\\n",
    "Per convenzione, siccome in questo caso la variabile serve solo per ripetere la funzione, invece di darle un nome come si farebbe di solito (ad esempio \"i\" oppure \"it\"), la si chiama semplicemente **\"_\"**.\n",
    "\n",
    "- [*func(parametro1, ...)* for **_** in range(n)]"
   ]
  },
  {
   "cell_type": "code",
   "execution_count": 7,
   "id": "0ab6c958",
   "metadata": {},
   "outputs": [
    {
     "data": {
      "text/plain": [
       "[1.2029750525085159,\n",
       " 1.2553232369248752,\n",
       " 0.5413266921279879,\n",
       " 2.1475674106316873,\n",
       " 0.6271030251215177,\n",
       " -0.9185951952698566,\n",
       " 1.7312401217526987,\n",
       " 0.28003900749955524,\n",
       " -0.4162778509529206,\n",
       " 0.2685601387596487]"
      ]
     },
     "execution_count": 7,
     "metadata": {},
     "output_type": "execute_result"
    }
   ],
   "source": [
    "# posso usare le list comprehension\n",
    "\n",
    "# con _ in range() dico quante volte voglio chiamare la funzione\n",
    "numeri_rnd = [random.normalvariate(1,1) for _ in range(10)]\n",
    "numeri_rnd"
   ]
  },
  {
   "cell_type": "code",
   "execution_count": 8,
   "id": "ae27246d",
   "metadata": {},
   "outputs": [
    {
     "data": {
      "text/plain": [
       "-0.9185951952698566"
      ]
     },
     "execution_count": 8,
     "metadata": {},
     "output_type": "execute_result"
    }
   ],
   "source": [
    "# scelta casuale di un element in una lista\n",
    "random.choice(numeri_rnd)"
   ]
  },
  {
   "cell_type": "markdown",
   "id": "82c5a699",
   "metadata": {},
   "source": [
    "### IF-ELSE\n",
    "\n",
    "Immaginiamo di aver scelto un numero random, *num*, da un range e di voler controllarne il valore per vedere se è un numero sotto una soglia da noi scelta, *th*."
   ]
  },
  {
   "cell_type": "code",
   "execution_count": 9,
   "id": "3b1a2714",
   "metadata": {},
   "outputs": [],
   "source": [
    "num = random.randrange(3, 8)\n",
    "th = 5"
   ]
  },
  {
   "cell_type": "code",
   "execution_count": 10,
   "id": "b6c0b24f",
   "metadata": {},
   "outputs": [],
   "source": [
    "if num < 5:\n",
    "    print('numero basso con valore:',num)"
   ]
  },
  {
   "cell_type": "markdown",
   "id": "efb7b462",
   "metadata": {},
   "source": [
    "Immaginiamo ora di avere più soglie. In questo caso un solo *if* non è sufficiente perchè abbiamo più casi possibili."
   ]
  },
  {
   "cell_type": "code",
   "execution_count": 11,
   "id": "85b70803",
   "metadata": {},
   "outputs": [
    {
     "data": {
      "text/plain": [
       "4"
      ]
     },
     "execution_count": 11,
     "metadata": {},
     "output_type": "execute_result"
    }
   ],
   "source": [
    "num = random.randrange(1, 8)\n",
    "num"
   ]
  },
  {
   "cell_type": "code",
   "execution_count": 12,
   "id": "6affc652",
   "metadata": {},
   "outputs": [
    {
     "name": "stdout",
     "output_type": "stream",
     "text": [
      "numero medio\n"
     ]
    }
   ],
   "source": [
    "if num < 3:     # if = \"se\"\n",
    "    print('numero basso')\n",
    "    \n",
    "elif num > 6:    # elif = \"altrimenti se\"\n",
    "    print('numero alto')\n",
    "    \n",
    "else:    # else = \"altrimenti\"\n",
    "    print('numero medio')"
   ]
  },
  {
   "cell_type": "markdown",
   "id": "faed8054",
   "metadata": {},
   "source": [
    "In Python, posso usare un **if-else** statement, usando anche l'opzione **elif** per dare alternative che dipendono da diverse condizioni. Poichè in Python non si usano parentesi, i blocchi dello statement sono delimitati dall'indentazione: \\\n",
    "in pratica, dove in altri linguaggi userei delle parentesi, in Python uso il *tab*. Più livelli avrò, più il testo sarà indentato.\\\n",
    "In ogni blocco posso avere più operazioni (cosa non possibile invece nelle list comprehension!)."
   ]
  },
  {
   "cell_type": "markdown",
   "id": "0ea601b1",
   "metadata": {},
   "source": [
    "**if** (condizioni) **:** \\\n",
    "    $\\;\\;\\;\\;\\;\\;$*blocco di operazioni* \n",
    "    \n",
    "**elif** (condizioni) **:** \\\n",
    "    $\\;\\;\\;\\;\\;\\;$*blocco di operazioni* \n",
    "    \n",
    "**elif** (condizioni) **:** \\\n",
    "    $\\;\\;\\;\\;\\;\\;$*blocco di operazioni* \n",
    "    \n",
    "$\\cdots$ \n",
    "\n",
    "**else**: \\\n",
    "    $\\;\\;\\;\\;\\;\\;$*blocco di operazioni da fare se\\\n",
    "    $\\;\\;\\;\\;\\;\\;$nessuna delle condizioni precedenti viene soddisfatta*"
   ]
  },
  {
   "cell_type": "markdown",
   "id": "d6662d9c",
   "metadata": {},
   "source": [
    "##### Operatori di comparazione\n",
    "\n",
    "Gli operatori di comparazione servono per comparare due valori. Ritornano *True* se la condizione di comporazione viene soddisfatta, altrimenti ritornano *False*."
   ]
  },
  {
   "cell_type": "code",
   "execution_count": 13,
   "id": "62c478e1",
   "metadata": {},
   "outputs": [
    {
     "name": "stdout",
     "output_type": "stream",
     "text": [
      "Esempi di operatori di comparazione.\n"
     ]
    }
   ],
   "source": [
    "10 < 2 # False\n",
    "10 <= 2 # False\n",
    "2 > 1 # True\n",
    "2 >= 3 # False\n",
    "1 == 1 # True\n",
    "1 != 2 # True\n",
    "\n",
    "print('Esempi di operatori di comparazione.')"
   ]
  },
  {
   "cell_type": "markdown",
   "id": "b98a1e4e",
   "metadata": {},
   "source": [
    "### I CICLI\n",
    "### 1. FOR-LOOP\n",
    "\n",
    "Con il *for-loop* ripetiamo un blocco di operazioni un certo numero di volte, potendo anche usare un elemento di una collezione (ad esempio una stringa, range, lista, ecc$\\dots$) alla volta."
   ]
  },
  {
   "cell_type": "markdown",
   "id": "2a6a30aa",
   "metadata": {},
   "source": [
    "**for** (oggetto su cui iterare) **:** \\\n",
    "    $\\;\\;\\;\\;\\;\\;$*blocco di operazioni* "
   ]
  },
  {
   "cell_type": "code",
   "execution_count": 14,
   "id": "8cf545a0",
   "metadata": {},
   "outputs": [
    {
     "name": "stdout",
     "output_type": "stream",
     "text": [
      "c\n",
      "i\n",
      "a\n",
      "o\n"
     ]
    }
   ],
   "source": [
    "# un elemento di una stringa alla volta\n",
    "for lettera in 'ciao':\n",
    "    print(lettera)"
   ]
  },
  {
   "cell_type": "code",
   "execution_count": 15,
   "id": "194cf9d7",
   "metadata": {},
   "outputs": [
    {
     "name": "stdout",
     "output_type": "stream",
     "text": [
      "3\n",
      "8\n",
      "13\n",
      "18\n"
     ]
    }
   ],
   "source": [
    "# un elemento di un range alla volta\n",
    "for numero in range(3, 20, 5):\n",
    "    print(numero)"
   ]
  },
  {
   "cell_type": "code",
   "execution_count": 16,
   "id": "4e357a03",
   "metadata": {},
   "outputs": [
    {
     "name": "stdout",
     "output_type": "stream",
     "text": [
      "2\n",
      "4\n",
      "7\n",
      "3\n",
      "1\n"
     ]
    }
   ],
   "source": [
    "# un elemento di una lista alla volta\n",
    "lista = [2, 4, 7, 3, 1]\n",
    "\n",
    "for elemento in lista:\n",
    "    print(elemento)"
   ]
  },
  {
   "cell_type": "code",
   "execution_count": 17,
   "id": "e2230d70",
   "metadata": {},
   "outputs": [
    {
     "name": "stdout",
     "output_type": "stream",
     "text": [
      "ciao\n",
      "ciao\n",
      "ciao\n",
      "ciao\n",
      "ciao\n"
     ]
    }
   ],
   "source": [
    "# ripetizione di una funzione n volte\n",
    "n = 5\n",
    "\n",
    "for _ in range(n):\n",
    "    print('ciao')"
   ]
  },
  {
   "cell_type": "code",
   "execution_count": 18,
   "id": "856f6304",
   "metadata": {},
   "outputs": [
    {
     "name": "stdout",
     "output_type": "stream",
     "text": [
      "0 è pari\n",
      "1 è dispari\n",
      "2 è pari\n",
      "3 è dispari\n",
      "4 è pari\n"
     ]
    }
   ],
   "source": [
    "# ripetizione di una funzione n volte con if-else statement\n",
    "\n",
    "n = 5\n",
    "\n",
    "# un elemento di un range alla volta\n",
    "for numero in range(n):\n",
    "    \n",
    "    # if-else satement\n",
    "    if numero %2 == 0:\n",
    "        print(numero, 'è pari')\n",
    "    else:\n",
    "        print(numero, 'è dispari')"
   ]
  },
  {
   "cell_type": "code",
   "execution_count": 19,
   "id": "49f330df",
   "metadata": {},
   "outputs": [
    {
     "name": "stdout",
     "output_type": "stream",
     "text": [
      "2\n",
      "-6\n",
      "-4\n",
      "5\n"
     ]
    }
   ],
   "source": [
    "# un elemento di un set alla volta\n",
    "# ATTENZIONE: un set è un insieme NON ordinato!\n",
    "\n",
    "insieme = {5, 2, -4, -6}\n",
    "\n",
    "for elemento in insieme:\n",
    "    print(elemento)"
   ]
  },
  {
   "cell_type": "markdown",
   "id": "7432e0a3",
   "metadata": {},
   "source": [
    "Le iterazioni su un dizionario possono essere:\n",
    "- sulle chiavi\n",
    "- sui valori\n",
    "- sulle coppie chiave-valore"
   ]
  },
  {
   "cell_type": "code",
   "execution_count": 20,
   "id": "02fa0e6e",
   "metadata": {},
   "outputs": [],
   "source": [
    "d = {\n",
    "    'Roma': 'IT',\n",
    "    'Barcelona': 'ES',\n",
    "    'Dublin': 'IE'\n",
    "}"
   ]
  },
  {
   "cell_type": "markdown",
   "id": "135eb2b5",
   "metadata": {},
   "source": [
    "###### Unpacking\n",
    "con d.items() prendo tuple che hanno questa forma: (chiave, valore) \\\n",
    "allora posso scorporare (\"unpacking\") ogni coppia in due variabili \\\n",
    "chiave: k = coppia[0], valore: v = coppia[1]"
   ]
  },
  {
   "cell_type": "code",
   "execution_count": 21,
   "id": "83347f76",
   "metadata": {},
   "outputs": [
    {
     "name": "stdout",
     "output_type": "stream",
     "text": [
      "chiave: Roma --> valore: IT\n",
      "chiave: Barcelona --> valore: ES\n",
      "chiave: Dublin --> valore: IE\n"
     ]
    }
   ],
   "source": [
    "# una coppia chiave-valore alla volta\n",
    "\n",
    "for k, v in d.items():\n",
    "    print(f'chiave: {k} --> valore: {v}')"
   ]
  },
  {
   "cell_type": "code",
   "execution_count": 22,
   "id": "e4c958d7",
   "metadata": {},
   "outputs": [
    {
     "name": "stdout",
     "output_type": "stream",
     "text": [
      "chiave: Roma\n",
      "chiave: Barcelona\n",
      "chiave: Dublin\n"
     ]
    }
   ],
   "source": [
    "# una chiave alla volta\n",
    "for key in d.keys():\n",
    "    print(f'chiave: {key}')"
   ]
  },
  {
   "cell_type": "code",
   "execution_count": 23,
   "id": "7d629166",
   "metadata": {},
   "outputs": [
    {
     "name": "stdout",
     "output_type": "stream",
     "text": [
      "valore: IT\n",
      "valore: ES\n",
      "valore: IE\n"
     ]
    }
   ],
   "source": [
    "# un valore alla volta\n",
    "for value in d.values():\n",
    "    print(f'valore: {value}')"
   ]
  },
  {
   "cell_type": "markdown",
   "id": "67678d6e",
   "metadata": {},
   "source": [
    "### Esercizio: la limitazione di iterare su elementi e non indici\n",
    "\n",
    "Stampare tutti gli elementi di una lista tranne quello con indice uguale a 2."
   ]
  },
  {
   "cell_type": "code",
   "execution_count": 24,
   "id": "4b2062a2",
   "metadata": {},
   "outputs": [
    {
     "name": "stdout",
     "output_type": "stream",
     "text": [
      "libro\n",
      "matita\n",
      "gomma\n"
     ]
    }
   ],
   "source": [
    "l = ['libro', 'matita', 'penna', 'gomma']\n",
    "for el in l:\n",
    "    if el != l[2]:\n",
    "        print(el)"
   ]
  },
  {
   "cell_type": "markdown",
   "id": "758e070f",
   "metadata": {},
   "source": [
    "Se non vogliamo stampare l'elemento successivo a quello uguale a 'penna'?"
   ]
  },
  {
   "cell_type": "code",
   "execution_count": 25,
   "id": "de4ce17f",
   "metadata": {},
   "outputs": [
    {
     "name": "stdout",
     "output_type": "stream",
     "text": [
      "Siamo all'indice: 0\n",
      "libro\n",
      "Siamo all'indice: 1\n",
      "matita\n",
      "Siamo all'indice: 2\n",
      "Penna trovata! Escludi prossimo indice, cioè: 3\n",
      "penna\n",
      "Siamo all'indice: 3\n"
     ]
    }
   ],
   "source": [
    "idx_esc = None\n",
    "\n",
    "# for-loop su un valore di indice alla volta\n",
    "for i in range(len(l)):\n",
    "    print(f\"Siamo all'indice:\", i)\n",
    "    if l[i] == 'penna': # check su elemento all'i-esimo indice\n",
    "        idx_esc = i+1\n",
    "        print('Penna trovata! Escludi prossimo indice, cioè:', idx_esc)\n",
    "    \n",
    "    if i == idx_esc:\n",
    "        pass\n",
    "    else:\n",
    "        print(l[i])"
   ]
  },
  {
   "cell_type": "markdown",
   "id": "a59e690c",
   "metadata": {},
   "source": [
    "###### Ripasso sulla funzione \"zip()\" (dalla lezione n.05)\n",
    "\n",
    "Gli elementi di due o più liste di stessa dimensione possono essere associati con la funzione *zip()*. Questa funzione non ritorna una lista, per cui se voglio visualizzarne il risultato in maniera leggibile è necessario salvarlo manualmente in una lista (o tupla).\n",
    "\n",
    "*Cosa succede se le liste hanno lunghezza diversa?* \\\n",
    "Gli elementi in più di una lista non saranno presenti nel risultato finale, verranno scartati!"
   ]
  },
  {
   "cell_type": "code",
   "execution_count": 26,
   "id": "ecf919da",
   "metadata": {},
   "outputs": [
    {
     "data": {
      "text/plain": [
       "[(0, 'libro'), (1, 'matita'), (2, 'penna'), (3, 'gomma')]"
      ]
     },
     "execution_count": 26,
     "metadata": {},
     "output_type": "execute_result"
    }
   ],
   "source": [
    "list(zip(range(len(l)), l))"
   ]
  },
  {
   "cell_type": "code",
   "execution_count": 27,
   "id": "11ec7ca0",
   "metadata": {},
   "outputs": [
    {
     "name": "stdout",
     "output_type": "stream",
     "text": [
      "Siamo all'indice: 0\n",
      "libro\n",
      "Siamo all'indice: 1\n",
      "matita\n",
      "Siamo all'indice: 2\n",
      "Penna trovata! Escludi prossimo indice, cioè: 3\n",
      "penna\n",
      "Siamo all'indice: 3\n"
     ]
    }
   ],
   "source": [
    "idx_esc = None\n",
    "\n",
    "# for-loop su un valore di indice alla volta\n",
    "for i, el in zip(range(len(l)), l):\n",
    "    print(f\"Siamo all'indice:\", i)\n",
    "    \n",
    "    if el == 'penna': # check su elemento all'i-esimo indice\n",
    "        idx_esc = i+1\n",
    "        print('Penna trovata! Escludi prossimo indice, cioè:', idx_esc)\n",
    "    \n",
    "    if i != idx_esc:\n",
    "        print(el)"
   ]
  },
  {
   "cell_type": "markdown",
   "id": "6f8afe2c",
   "metadata": {},
   "source": [
    "##### La funzione \"enumerate()\"\n",
    "\n",
    "Per evitare di dover usare la funzione zip quando si vuole un elemento di una collezione (ad esempio una lista) e il rispettivo indice, si può usare la funzione built-in *enumerate()*.\n",
    "\n",
    "Questa funzione ritorna coppie indice valore con questa forma: (index, element). Ciò vuol dire che, in un for-loop, io posso fare l'unpacking di una coppia alla volta e usarne i valori."
   ]
  },
  {
   "cell_type": "markdown",
   "id": "5b0a8163",
   "metadata": {},
   "source": [
    "### PLOTTING"
   ]
  },
  {
   "cell_type": "markdown",
   "id": "470e2872",
   "metadata": {},
   "source": [
    "#### Matplotlib.pyplot\n",
    "Questa libreria serve per generare plot partendo da dati salvati in liste e/o tuple."
   ]
  },
  {
   "cell_type": "code",
   "execution_count": 28,
   "id": "a6452b0a",
   "metadata": {},
   "outputs": [],
   "source": [
    "# !pip install matplotlib\n",
    "import matplotlib.pyplot as plt"
   ]
  },
  {
   "cell_type": "code",
   "execution_count": 29,
   "id": "6041341e",
   "metadata": {},
   "outputs": [],
   "source": [
    "x = [random.gauss(0, 1) for _ in range(10000)]"
   ]
  },
  {
   "cell_type": "markdown",
   "id": "794b14d9",
   "metadata": {},
   "source": [
    "###### Bins\n",
    "Con \"binnare\" si intende dividere i dati in gruppi in base al loro valore. Questo è ciò che succede quando si vuole fare per esempio un istogramma."
   ]
  },
  {
   "cell_type": "code",
   "execution_count": 30,
   "id": "cf842666",
   "metadata": {},
   "outputs": [
    {
     "data": {
      "text/plain": [
       "(array([  10.,   96.,  478., 1392., 2391., 2774., 1852.,  778.,  203.,\n",
       "          26.]),\n",
       " array([-3.70240374, -2.99258838, -2.28277302, -1.57295767, -0.86314231,\n",
       "        -0.15332696,  0.5564884 ,  1.26630375,  1.97611911,  2.68593447,\n",
       "         3.39574982]),\n",
       " <BarContainer object of 10 artists>)"
      ]
     },
     "execution_count": 30,
     "metadata": {},
     "output_type": "execute_result"
    },
    {
     "data": {
      "image/png": "[encoded data removed]",
      "text/plain": [
       "<Figure size 640x480 with 1 Axes>"
      ]
     },
     "metadata": {},
     "output_type": "display_data"
    }
   ],
   "source": [
    "plt.xlabel('valori')\n",
    "plt.ylabel('#')\n",
    "plt.hist(x)"
   ]
  },
  {
   "cell_type": "code",
   "execution_count": 31,
   "id": "e09a06b2",
   "metadata": {},
   "outputs": [
    {
     "data": {
      "text/plain": [
       "(array([  1.,   1.,   3.,   1.,   4.,  15.,   9.,  16.,  29.,  27.,  54.,\n",
       "         77.,  72., 103., 172., 186., 216., 299., 316., 375., 397., 462.,\n",
       "        482., 493., 557., 582., 567., 578., 537., 510., 453., 414., 363.,\n",
       "        323., 299., 220., 202., 162., 116.,  78.,  71.,  60.,  35.,  21.,\n",
       "         16.,  11.,   4.,   2.,   4.,   5.]),\n",
       " array([-3.70240374, -3.56044067, -3.41847759, -3.27651452, -3.13455145,\n",
       "        -2.99258838, -2.85062531, -2.70866224, -2.56669917, -2.4247361 ,\n",
       "        -2.28277302, -2.14080995, -1.99884688, -1.85688381, -1.71492074,\n",
       "        -1.57295767, -1.4309946 , -1.28903153, -1.14706846, -1.00510538,\n",
       "        -0.86314231, -0.72117924, -0.57921617, -0.4372531 , -0.29529003,\n",
       "        -0.15332696, -0.01136389,  0.13059918,  0.27256226,  0.41452533,\n",
       "         0.5564884 ,  0.69845147,  0.84041454,  0.98237761,  1.12434068,\n",
       "         1.26630375,  1.40826683,  1.5502299 ,  1.69219297,  1.83415604,\n",
       "         1.97611911,  2.11808218,  2.26004525,  2.40200832,  2.54397139,\n",
       "         2.68593447,  2.82789754,  2.96986061,  3.11182368,  3.25378675,\n",
       "         3.39574982]),\n",
       " <BarContainer object of 50 artists>)"
      ]
     },
     "execution_count": 31,
     "metadata": {},
     "output_type": "execute_result"
    },
    {
     "data": {
      "image/png": "[encoded data removed]",
      "text/plain": [
       "<Figure size 640x480 with 1 Axes>"
      ]
     },
     "metadata": {},
     "output_type": "display_data"
    }
   ],
   "source": [
    "# posso anche decidere il numero di bins\n",
    "plt.xlabel('valori')\n",
    "plt.ylabel('#')\n",
    "plt.hist(x, bins=50)"
   ]
  },
  {
   "cell_type": "code",
   "execution_count": 32,
   "id": "e1b8467b",
   "metadata": {},
   "outputs": [
    {
     "data": {
      "text/plain": [
       "<matplotlib.collections.PathCollection at 0x1b78b7f11e0>"
      ]
     },
     "execution_count": 32,
     "metadata": {},
     "output_type": "execute_result"
    },
    {
     "data": {
      "image/png": "[encoded data removed]",
      "text/plain": [
       "<Figure size 640x480 with 1 Axes>"
      ]
     },
     "metadata": {},
     "output_type": "display_data"
    }
   ],
   "source": [
    "x = [random.randint(1, 10) for _ in range(10)]\n",
    "y = list(range(10))\n",
    "plt.scatter(x, y, color='r')"
   ]
  },
  {
   "cell_type": "markdown",
   "id": "b32ec8e7",
   "metadata": {},
   "source": [
    "### 2. WHILE-LOOP\n",
    "\n",
    "Questo loop serve per ripetere un gruppo di istruzioni finchè si verifica una condizione.\n",
    "\n",
    "**while** (condizione) **:** \\\n",
    "    $\\;\\;\\;\\;\\;\\;$*blocco di operazioni* "
   ]
  },
  {
   "cell_type": "markdown",
   "id": "6a9ab163",
   "metadata": {},
   "source": [
    "### Esercizio:\n",
    "Dato un intero $n > 2$, ritornare i numeri di una serie di Fibonacci con condizione di stop $ultimoelemento <= n$."
   ]
  },
  {
   "cell_type": "code",
   "execution_count": 33,
   "id": "628bc2df",
   "metadata": {},
   "outputs": [
    {
     "name": "stdout",
     "output_type": "stream",
     "text": [
      "serie completa [0, 1, 1, 2, 3, 5, 8, 13, 21]\n",
      "serie solo con numeri pari [0, 2, 8]\n"
     ]
    }
   ],
   "source": [
    "n = 20\n",
    "serie = [0, 1]\n",
    "i = 1\n",
    "\n",
    "while serie[-1] < n:\n",
    "    serie.append(serie[i-1] + serie[i])\n",
    "    i+=1\n",
    "    \n",
    "serie_pari = [el for el in serie if el%2 == 0]\n",
    "\n",
    "print('serie completa', serie)\n",
    "print('serie solo con numeri pari', serie_pari)"
   ]
  },
  {
   "cell_type": "markdown",
   "id": "1b52c42f",
   "metadata": {},
   "source": [
    "# Interruzione e salto nei cicli \n",
    "\n",
    "**break**: interrompe il ciclo immediatamente\\\n",
    "**continue**: passa immediatamente alla prossima iterazione del ciclo\\\n",
    "**pass**: passa al blocco successivo di istruzioni nell'iterazione corrente"
   ]
  },
  {
   "cell_type": "code",
   "execution_count": 34,
   "id": "3d87f0f4",
   "metadata": {},
   "outputs": [
    {
     "data": {
      "text/plain": [
       "[0, 2, 4, 6, 8, 10, 12, 14, 16, 18, 20, 22, 24]"
      ]
     },
     "execution_count": 34,
     "metadata": {},
     "output_type": "execute_result"
    }
   ],
   "source": [
    "# senza interruzioni\n",
    "\n",
    "n = 0\n",
    "res = []\n",
    "\n",
    "while n < 25:\n",
    "    if n%2 == 0:\n",
    "        res.append(n)\n",
    "    n+=1\n",
    "res"
   ]
  },
  {
   "cell_type": "code",
   "execution_count": 35,
   "id": "ebca717d",
   "metadata": {},
   "outputs": [
    {
     "data": {
      "text/plain": [
       "[0, 2, 4, 6, 8, 10, 12, 14, 16, 18, 20, 22, 24]"
      ]
     },
     "execution_count": 35,
     "metadata": {},
     "output_type": "execute_result"
    }
   ],
   "source": [
    "# con \"continue\"\n",
    "\n",
    "n = 0\n",
    "res = []\n",
    "\n",
    "while n < 25:\n",
    "    \n",
    "    if n%2 == 1:\n",
    "        n+=1\n",
    "        # passa alla prossima iterazione del while\n",
    "        continue\n",
    "    \n",
    "    res.append(n)\n",
    "    n+=1\n",
    "res"
   ]
  },
  {
   "cell_type": "code",
   "execution_count": 36,
   "id": "eb9cbe02",
   "metadata": {},
   "outputs": [
    {
     "data": {
      "text/plain": [
       "([0, 2, 4, 6, 8, 10, 12, 14, 16, 18, 20, 22, 24], 12)"
      ]
     },
     "execution_count": 36,
     "metadata": {},
     "output_type": "execute_result"
    }
   ],
   "source": [
    "# con \"pass\"\n",
    "\n",
    "n = 0\n",
    "res = []\n",
    "\n",
    "# count per vedere quante volte vado su pass\n",
    "cnt_pass = 0 \n",
    "\n",
    "while n < 25:\n",
    "    \n",
    "    if n%2 == 1:\n",
    "        cnt_pass += 1\n",
    "        # vai avanti con le istruzioni in questa iterazione\n",
    "        pass\n",
    "    \n",
    "    else:\n",
    "        res.append(n)\n",
    "        \n",
    "    n+=1\n",
    "    \n",
    "res, cnt_pass"
   ]
  },
  {
   "cell_type": "markdown",
   "id": "0f443648",
   "metadata": {},
   "source": [
    "# LE FUNZIONI\n",
    "\n",
    "Le funzioni sono una serie di istruzioni che possono essere riutilizzate.\\\n",
    "Possono avere parametri in input e possono ritornare valori in output.\n",
    "\n",
    "**def** nome_funzione(parametri_input) **:** \\\n",
    "    $\\;\\;\\;\\;\\;\\;$*operazioni* \\\n",
    "    $\\;\\;\\;\\;\\;\\;\\dots$\\\n",
    "    $\\;\\;\\;\\;\\;\\;$***return*** *risultato*\n",
    "    \n",
    "    "
   ]
  },
  {
   "cell_type": "code",
   "execution_count": 37,
   "id": "a7a81a5f",
   "metadata": {},
   "outputs": [],
   "source": [
    "def quadrato(n):\n",
    "    return n**2\n",
    "\n",
    "def prima_doppia(s):\n",
    "    for i, v in enumerate(s):\n",
    "        try:\n",
    "            if v == s[i+1]:\n",
    "                return i, v\n",
    "        except:\n",
    "            print('no doppia')\n",
    "    return"
   ]
  },
  {
   "cell_type": "code",
   "execution_count": 38,
   "id": "1b37e7ee",
   "metadata": {},
   "outputs": [
    {
     "data": {
      "text/plain": [
       "(2, 't')"
      ]
     },
     "execution_count": 38,
     "metadata": {},
     "output_type": "execute_result"
    }
   ],
   "source": [
    "prima_doppia('tutto')"
   ]
  },
  {
   "cell_type": "code",
   "execution_count": 39,
   "id": "c92cf299",
   "metadata": {},
   "outputs": [
    {
     "name": "stdout",
     "output_type": "stream",
     "text": [
      "no doppia\n"
     ]
    }
   ],
   "source": [
    "prima_doppia('ciao')"
   ]
  },
  {
   "cell_type": "markdown",
   "id": "44684c96",
   "metadata": {},
   "source": [
    "2. funzione per trovare doppie"
   ]
  },
  {
   "cell_type": "code",
   "execution_count": 40,
   "id": "8b199d0d",
   "metadata": {},
   "outputs": [],
   "source": [
    "def trova_doppie(stringa):\n",
    "    doppie = []\n",
    "    \n",
    "    # ciclo su tutte le lettere\n",
    "    for i,v in enumerate(stringa):\n",
    "        try:\n",
    "            #controllo lettera successiva\n",
    "            if v == stringa[i+1]:\n",
    "                # appendo doppia e indice\n",
    "                doppie.append((v, i))\n",
    "        except:\n",
    "            print('analisi su stringa conclusa')\n",
    "            \n",
    "    return doppie"
   ]
  },
  {
   "cell_type": "code",
   "execution_count": 41,
   "id": "6cd9356a",
   "metadata": {},
   "outputs": [
    {
     "name": "stdout",
     "output_type": "stream",
     "text": [
      "analisi su stringa conclusa\n"
     ]
    },
    {
     "data": {
      "text/plain": [
       "[('p', 2), ('c', 5), ('t', 8)]"
      ]
     },
     "execution_count": 41,
     "metadata": {},
     "output_type": "execute_result"
    }
   ],
   "source": [
    "st = 'cappuccetto'\n",
    "doppie_trovate = trova_doppie(st)\n",
    "doppie_trovate"
   ]
  },
  {
   "cell_type": "markdown",
   "id": "193c9248",
   "metadata": {},
   "source": [
    "3. a) funzione per check se elemento è primo"
   ]
  },
  {
   "cell_type": "code",
   "execution_count": 42,
   "id": "0369bda6",
   "metadata": {},
   "outputs": [],
   "source": [
    "def is_primo(n):\n",
    "    \n",
    "    # [num for num in range(2, n//2) if num%n==0]==[]\n",
    "    \n",
    "    primissimi = (2, 3, 5, 7)\n",
    "    for div in primissimi:  \n",
    "        if n%div == 0 and n not in primissimi:\n",
    "            return False\n",
    "        \n",
    "    return True"
   ]
  },
  {
   "cell_type": "code",
   "execution_count": 43,
   "id": "0c05fccb",
   "metadata": {},
   "outputs": [
    {
     "name": "stdout",
     "output_type": "stream",
     "text": [
      "[1, 2, 3, 5, 7, 11, 13, 17, 19, 23, 29, 31, 37, 41, 43, 47, 53, 59, 61, 67, 71, 73, 79, 83, 89, 97]\n"
     ]
    }
   ],
   "source": [
    "res = []\n",
    "for num in range(100):\n",
    "    if is_primo(num):\n",
    "        res.append(num)\n",
    "print(res)"
   ]
  },
  {
   "cell_type": "markdown",
   "id": "df9878f3",
   "metadata": {},
   "source": [
    "3. b) funzione per trovare numeri primi gemelli"
   ]
  },
  {
   "cell_type": "code",
   "execution_count": 44,
   "id": "b8b2d900",
   "metadata": {},
   "outputs": [],
   "source": [
    "def twin_prime(n, m):\n",
    "    \n",
    "    # is_primo(n) and is_primo(m) and abs(n-m)==2\n",
    "    \n",
    "    if not is_primo(n) or not is_primo(m):\n",
    "        return False    \n",
    "    else:\n",
    "        return abs(n-m) == 2"
   ]
  },
  {
   "cell_type": "code",
   "execution_count": 45,
   "id": "d4a78a93",
   "metadata": {},
   "outputs": [
    {
     "data": {
      "text/plain": [
       "True"
      ]
     },
     "execution_count": 45,
     "metadata": {},
     "output_type": "execute_result"
    }
   ],
   "source": [
    "twin_prime(19, 17)"
   ]
  },
  {
   "cell_type": "code",
   "execution_count": 46,
   "id": "4e484429",
   "metadata": {},
   "outputs": [
    {
     "data": {
      "text/plain": [
       "False"
      ]
     },
     "execution_count": 46,
     "metadata": {},
     "output_type": "execute_result"
    }
   ],
   "source": [
    "twin_prime(18, 19)"
   ]
  },
  {
   "cell_type": "markdown",
   "id": "2c66bfdf",
   "metadata": {},
   "source": [
    "4. dato un intero $n$, ritornare una lista di tuple con la fattorizzazione di $n$"
   ]
  },
  {
   "cell_type": "code",
   "execution_count": 47,
   "id": "e0b38e94",
   "metadata": {},
   "outputs": [],
   "source": [
    "def genera_primi(n):\n",
    "    \n",
    "    # [num for num in range(2, n+1) if is_primo(num)]\n",
    "    \n",
    "    primi = []\n",
    "    for num in range(2, n+1):\n",
    "        if is_primo(num):\n",
    "            primi.append(num)\n",
    "            \n",
    "    return primi"
   ]
  },
  {
   "cell_type": "code",
   "execution_count": 48,
   "id": "b8379395",
   "metadata": {},
   "outputs": [],
   "source": [
    "def fattori(n):\n",
    "    \n",
    "    fattori = genera_primi(n)\n",
    "    res = []\n",
    "    \n",
    "    for f in fattori:\n",
    "        \n",
    "        cnt = 0   \n",
    "        while n%f == 0:\n",
    "            cnt += 1\n",
    "            n /= f \n",
    "       \n",
    "        if cnt:\n",
    "            res.append((f, cnt))\n",
    "            \n",
    "    return res"
   ]
  },
  {
   "cell_type": "code",
   "execution_count": 49,
   "id": "8f25405a",
   "metadata": {},
   "outputs": [
    {
     "data": {
      "text/plain": [
       "([(47, 1)], [(2, 1), (5, 2)])"
      ]
     },
     "execution_count": 49,
     "metadata": {},
     "output_type": "execute_result"
    }
   ],
   "source": [
    "fattori(47), fattori(50)"
   ]
  },
  {
   "cell_type": "markdown",
   "id": "620b21b7",
   "metadata": {},
   "source": [
    "5. stampare risultato *is_prime(n)* con list comprehension"
   ]
  },
  {
   "cell_type": "code",
   "execution_count": 50,
   "id": "6f0b703b",
   "metadata": {},
   "outputs": [],
   "source": [
    "def calc_primes(n):\n",
    "    return [(num, is_primo(num)) for num in range(2, n)]"
   ]
  },
  {
   "cell_type": "code",
   "execution_count": 51,
   "id": "da70bf93",
   "metadata": {},
   "outputs": [
    {
     "name": "stdout",
     "output_type": "stream",
     "text": [
      "[(2, True), (3, True), (4, False), (5, True), (6, False), (7, True), (8, False), (9, False), (10, False), (11, True), (12, False), (13, True), (14, False), (15, False), (16, False), (17, True), (18, False), (19, True), (20, False), (21, False), (22, False), (23, True), (24, False)]\n"
     ]
    }
   ],
   "source": [
    "print(calc_primes(n))"
   ]
  },
  {
   "cell_type": "markdown",
   "id": "93e2f02f",
   "metadata": {},
   "source": [
    "### Extra"
   ]
  },
  {
   "cell_type": "markdown",
   "id": "953338b3",
   "metadata": {},
   "source": [
    "##### Tip: list comprehension su righe multiple\n",
    "\n",
    "Posso scrivere la list comprehension su più righe per leggibilità:\\\n",
    "[\\\n",
    "    $\\;\\;\\;\\;\\;\\;$*func(x)*\\\n",
    "    $\\;\\;\\;\\;\\;\\;$**for** ... \\\n",
    "    $\\;\\;\\;\\;\\;\\;$**if** ... **else**\\\n",
    "]"
   ]
  },
  {
   "cell_type": "code",
   "execution_count": 60,
   "id": "95667c4c",
   "metadata": {},
   "outputs": [],
   "source": [
    "def scatter_prime(n):\n",
    "    \n",
    "    for x, el in enumerate(calc_primes(n)):\n",
    "        if el[1]:\n",
    "            plt.scatter(el[0], 1, color='r')\n",
    "        else:\n",
    "            plt.scatter(el[0], 1, color='b')\n",
    "       \n",
    "    ticks = [int(n_i) for n_i in range(2,n)]  \n",
    "    plt.xticks(ticks)\n",
    "    plt.grid()\n",
    "    plt.show()"
   ]
  },
  {
   "cell_type": "code",
   "execution_count": 62,
   "id": "966ec1e4",
   "metadata": {},
   "outputs": [
    {
     "data": {
      "image/png": "[encoded data removed]",
      "text/plain": [
       "<Figure size 640x480 with 1 Axes>"
      ]
     },
     "metadata": {},
     "output_type": "display_data"
    }
   ],
   "source": [
    "scatter_prime(15)"
   ]
  }
 ],
 "metadata": {
  "kernelspec": {
   "display_name": "Python 3 (ipykernel)",
   "language": "python",
   "name": "python3"
  },
  "language_info": {
   "codemirror_mode": {
    "name": "ipython",
    "version": 3
   },
   "file_extension": ".py",
   "mimetype": "text/x-python",
   "name": "python",
   "nbconvert_exporter": "python",
   "pygments_lexer": "ipython3",
   "version": "3.10.7"
  }
 },
 "nbformat": 4,
 "nbformat_minor": 5
}
