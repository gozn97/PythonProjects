{
 "cells": [
  {
   "cell_type": "markdown",
   "id": "1ead9308",
   "metadata": {},
   "source": [
    "# I NUMERI\n",
    "\n",
    "Python usa oggetti complessi per la gestione di numeri. Quindi, a differenza di altri linguaggi di programmazione, la memoria è gestita \"dinamicamente\" (cioé  per molti tipi di dato numerici non ci sono limiti di memoria)."
   ]
  },
  {
   "cell_type": "markdown",
   "id": "a3db1890",
   "metadata": {},
   "source": [
    "- INTERI"
   ]
  },
  {
   "cell_type": "code",
   "execution_count": 3,
   "id": "72077190",
   "metadata": {},
   "outputs": [
    {
     "name": "stdout",
     "output_type": "stream",
     "text": [
      "19950631168807583848837421626835850838234968318861924548520089498529438830221946631919961684036194597899331129423209124271556491349413781117593785932096323957855730046793794526765246551266059895520550086918193311542508608460618104685509074866089624888090489894838009253941633257850621568309473902556912388065225096643874441046759871626985453222868538161694315775629640762836880760732228535091641476183956381458969463899410840960536267821064621427333394036525565649530603142680234969400335934316651459297773279665775606172582031407994198179607378245683762280037302885487251900834464581454650557929601414833921615734588139257095379769119277800826957735674444123062018757836325502728323789270710373802866393031428133241401624195671690574061419654342324638801248856147305207431992259611796250130992860241708340807605932320161268492288496255841312844061536738951487114256315111089745514203313820202931640957596464756010405845841566072044962867016515061920631004186422275908670900574606417856951911456055068251250406007519842261898059237118054444788072906395242548339221982707404473162376760846613033778706039803413197133493654622700563169937455508241780972810983291314403571877524768509857276937926433221599399876886660808368837838027643282775172273657572744784112294389733810861607423253291974813120197604178281965697475898164531258434135959862784130128185406283476649088690521047580882615823961985770122407044330583075869039319604603404973156583208672105913300903752823415539745394397715257455290510212310947321610753474825740775273986348298498340756937955646638621874569499279016572103701364433135817214311791398222983845847334440270964182851005072927748364550578634501100852987812389473928699540834346158807043959118985815145779177143619698728131459483783202081474982171858011389071228250905826817436220577475921417653715687725614904582904992461028630081535583308130101987675856234343538955409175623400844887526162643568648833519463720377293240094456246923254350400678027273837755376406726898636241037491410966718557050759098100246789880178271925953381282421954028302759408448955014676668389697996886241636313376393903373455801407636741877711055384225739499110186468219696581651485130494222369947714763069155468217682876200362777257723781365331611196811280792669481887201298643660768551639860534602297871557517947385246369446923087894265948217008051120322365496288169035739121368338393591756418733850510970271613915439590991598154654417336311656936031122249937969999226781732358023111862644575299135758175008199839236284615249881088960232244362173771618086357015468484058622329792853875623486556440536962622018963571028812361567512543338303270029097668650568557157505516727518899194129711337690149916181315171544007728650573189557450920330185304847113818315407324053319038462084036421763703911550639789000742853672196280903477974533320468368795868580237952218629120080742819551317948157624448298518461509704888027274721574688131594750409732115080498190455803416826949787141316063210686391511681774304792596709376\n",
      "<class 'int'>\n"
     ]
    }
   ],
   "source": [
    "n = 2**10000 # si può anche scrivere così: 2**10_000 \n",
    "print(n)\n",
    "print(type(n))"
   ]
  },
  {
   "cell_type": "markdown",
   "id": "73433182",
   "metadata": {},
   "source": [
    "- FLOAT\\\n",
    "Per i float, il trattamento è diverso"
   ]
  },
  {
   "cell_type": "code",
   "execution_count": 4,
   "id": "94adbc5e",
   "metadata": {},
   "outputs": [
    {
     "name": "stdout",
     "output_type": "stream",
     "text": [
      "<class 'float'>\n"
     ]
    }
   ],
   "source": [
    "n_float = 1.5\n",
    "print(type(n_float))"
   ]
  },
  {
   "cell_type": "markdown",
   "id": "a3c44593",
   "metadata": {},
   "source": [
    "- ESADECIMALI\\\n",
    "Per ottenere un numero esadecimale, si aggiunge il prefisso *0x*"
   ]
  },
  {
   "cell_type": "code",
   "execution_count": 5,
   "id": "08492095",
   "metadata": {},
   "outputs": [
    {
     "name": "stdout",
     "output_type": "stream",
     "text": [
      "2576 <class 'int'>\n"
     ]
    }
   ],
   "source": [
    "n_esa = 0xA10 # esadecimale\n",
    "print(n_esa, type(n_esa)) # in base 10"
   ]
  },
  {
   "cell_type": "markdown",
   "id": "6ed417c6",
   "metadata": {},
   "source": [
    "- BINARI\\\n",
    "Per i numeri binari, si aggiunge il prefisso *0b*"
   ]
  },
  {
   "cell_type": "code",
   "execution_count": 6,
   "id": "a177b0dc",
   "metadata": {},
   "outputs": [
    {
     "name": "stdout",
     "output_type": "stream",
     "text": [
      "5 <class 'int'>\n"
     ]
    }
   ],
   "source": [
    "n_bin = 0b0101\n",
    "print(n_bin, type(n_bin)) # in base 10"
   ]
  },
  {
   "cell_type": "markdown",
   "id": "e051ab86",
   "metadata": {},
   "source": [
    "- OTTALI\\\n",
    "Per i numeri in codifica ottale, si aggiunge il prefisso *0o*"
   ]
  },
  {
   "cell_type": "code",
   "execution_count": 7,
   "id": "898eb531",
   "metadata": {},
   "outputs": [
    {
     "name": "stdout",
     "output_type": "stream",
     "text": [
      "15 <class 'int'>\n"
     ]
    }
   ],
   "source": [
    "n_oct = 0o17\n",
    "print(n_oct, type(n_oct)) # in base 10"
   ]
  },
  {
   "cell_type": "markdown",
   "id": "c85f0328",
   "metadata": {},
   "source": [
    "- COMPLESSI\\\n",
    "Python supporta nativamente i numeri complessi. Quindi, anceh le operazioni matematiche fondamentali sono supportate per i numeri complessi."
   ]
  },
  {
   "cell_type": "code",
   "execution_count": 9,
   "id": "0676953e",
   "metadata": {},
   "outputs": [
    {
     "name": "stdout",
     "output_type": "stream",
     "text": [
      "(2+1j) <class 'complex'>\n"
     ]
    }
   ],
   "source": [
    "# dichiarazione\n",
    "z = 2 + 1j\n",
    "print(z, type(z))"
   ]
  },
  {
   "cell_type": "code",
   "execution_count": 12,
   "id": "b23b39d9",
   "metadata": {},
   "outputs": [
    {
     "name": "stdout",
     "output_type": "stream",
     "text": [
      "2.0 1.0\n"
     ]
    }
   ],
   "source": [
    "# Accedere a parte reale e complessa\n",
    "print(z.real, z.imag)"
   ]
  },
  {
   "cell_type": "code",
   "execution_count": 15,
   "id": "5b35ac60",
   "metadata": {},
   "outputs": [
    {
     "name": "stdout",
     "output_type": "stream",
     "text": [
      "(1+5j)\n",
      "(2+11j)\n"
     ]
    }
   ],
   "source": [
    "# operazioni tra numeri complessi\n",
    "z1 = 2+ 1j\n",
    "z2 = -1 + 4j\n",
    "\n",
    "print(z1 + z2)\n",
    "print(z1**3)"
   ]
  },
  {
   "cell_type": "code",
   "execution_count": 23,
   "id": "db1e56f7",
   "metadata": {},
   "outputs": [
    {
     "name": "stdout",
     "output_type": "stream",
     "text": [
      "(6.123233995736766e-17+1j)\n"
     ]
    }
   ],
   "source": [
    "print((-1)**.5)"
   ]
  },
  {
   "cell_type": "markdown",
   "id": "8c1d564d",
   "metadata": {},
   "source": [
    "# True, False e None"
   ]
  },
  {
   "cell_type": "markdown",
   "id": "222b0472",
   "metadata": {},
   "source": [
    "True e False sono i risultati delle operazioni booleane.\n",
    "- True: la condizione è soddisfatta\n",
    "- False: la condizione non è soddisfatta"
   ]
  },
  {
   "cell_type": "code",
   "execution_count": 36,
   "id": "6107cc7b",
   "metadata": {},
   "outputs": [
    {
     "name": "stdout",
     "output_type": "stream",
     "text": [
      "dispari\n"
     ]
    }
   ],
   "source": [
    "a = 5\n",
    "condizione = (a%2 == 0) # questa condizione ha valore True o False\n",
    "\n",
    "if condizione: \n",
    "    print('pari')\n",
    "else:\n",
    "    print('dispari')"
   ]
  },
  {
   "cell_type": "markdown",
   "id": "a4b2aca3",
   "metadata": {},
   "source": [
    "Si possono salvare i valori booleani direttamente in una variabile."
   ]
  },
  {
   "cell_type": "code",
   "execution_count": 37,
   "id": "d772151d",
   "metadata": {},
   "outputs": [
    {
     "name": "stdout",
     "output_type": "stream",
     "text": [
      "vero\n"
     ]
    }
   ],
   "source": [
    "a = True\n",
    "b = False\n",
    "\n",
    "if a: \n",
    "    print('vero')"
   ]
  },
  {
   "cell_type": "markdown",
   "id": "c2c664a5",
   "metadata": {},
   "source": [
    "Nel caso la computazione portasse a dei valori mancanti, questi verrebbero calcolati come *None*."
   ]
  },
  {
   "cell_type": "code",
   "execution_count": 38,
   "id": "4842237e",
   "metadata": {},
   "outputs": [
    {
     "name": "stdout",
     "output_type": "stream",
     "text": [
      "None\n"
     ]
    }
   ],
   "source": [
    "a = 10\n",
    "b = 0\n",
    "\n",
    "try:\n",
    "    c = a/b\n",
    "except:\n",
    "    c = None\n",
    "    \n",
    "print(c)"
   ]
  }
 ],
 "metadata": {
  "kernelspec": {
   "display_name": "Python 3 (ipykernel)",
   "language": "python",
   "name": "python3"
  },
  "language_info": {
   "codemirror_mode": {
    "name": "ipython",
    "version": 3
   },
   "file_extension": ".py",
   "mimetype": "text/x-python",
   "name": "python",
   "nbconvert_exporter": "python",
   "pygments_lexer": "ipython3",
   "version": "3.10.7"
  }
 },
 "nbformat": 4,
 "nbformat_minor": 5
}
