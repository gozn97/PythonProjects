{
 "cells": [
  {
   "cell_type": "markdown",
   "id": "5d2ffd84",
   "metadata": {},
   "source": [
    "# I DIZIONARI\n",
    "\n",
    "Un dizionario è una struttura in cui si salvano coppie chiave-valore. Le chiavi appartengono ad un set (quindi non si ripetono), per cui non ci possono essere due valori associati alla stessa chiave. I valori appartengono ad una lista (quindi possono ripetersi), per cui possono esserci più chiavi che sono associate ad uno stesso valore.\n",
    "\n",
    "Si può accedere a un valore tramite la propria chiave."
   ]
  },
  {
   "cell_type": "markdown",
   "id": "c16031d0",
   "metadata": {},
   "source": [
    "#### DICHIARAZIONE"
   ]
  },
  {
   "cell_type": "code",
   "execution_count": 1,
   "id": "6c851f7b",
   "metadata": {},
   "outputs": [
    {
     "name": "stdout",
     "output_type": "stream",
     "text": [
      "{'Roma': 'Italia', 'Torino': 'Italia', 'Barcellona': 'Spagna'}\n",
      "{'Roma': 'Italia', 'Torino': 'Italia', 'Barcellona': 'Spagna'}\n"
     ]
    }
   ],
   "source": [
    "# metodo 1 - da dizionario vuoto\n",
    "citta = dict()\n",
    "citta['Roma'] = 'Italia'\n",
    "citta['Torino'] = 'Italia'\n",
    "citta['Barcellona'] = 'Spagna'\n",
    "\n",
    "print(citta)\n",
    "\n",
    "# metodo 2 - da dizionario non vuoto\n",
    "citta = {'Roma': 'Italia', 'Torino': 'Italia'}\n",
    "citta['Barcellona'] = 'Spagna' # coppia chiave-valore da aggiungere\n",
    "\n",
    "print(citta)"
   ]
  },
  {
   "cell_type": "markdown",
   "id": "2fc5deda",
   "metadata": {},
   "source": [
    "#### GLI ITEMS DI UN DIZIONARIO: KEYS E VALUES\n",
    "\n",
    "Si può accedere alle chiavi tramite un metodo dei dizionari, *keys()*. Per accedere ai valori, si può usare invece *values()*.\\\n",
    "Per accedere alle coppie, si usa *items()* che ritorna le coppie come tuple di due elementi."
   ]
  },
  {
   "cell_type": "code",
   "execution_count": 2,
   "id": "beb447d7",
   "metadata": {},
   "outputs": [
    {
     "name": "stdout",
     "output_type": "stream",
     "text": [
      "keys:\n",
      " dict_keys(['Roma', 'Torino', 'Barcellona']) \n",
      " <class 'dict_keys'> \n",
      "\n",
      "values:\n",
      " dict_values(['Italia', 'Italia', 'Spagna']) \n",
      " <class 'dict_values'> \n",
      "\n",
      "items:\n",
      " dict_items([('Roma', 'Italia'), ('Torino', 'Italia'), ('Barcellona', 'Spagna')]) \n",
      " <class 'dict_items'> \n",
      "\n"
     ]
    }
   ],
   "source": [
    "print('keys:\\n', citta.keys(), '\\n', type(citta.keys()), '\\n')\n",
    "print('values:\\n', citta.values(), '\\n', type(citta.values()), '\\n')\n",
    "print('items:\\n', citta.items(), '\\n', type(citta.items()))"
   ]
  },
  {
   "cell_type": "code",
   "execution_count": 3,
   "id": "de9ff201",
   "metadata": {},
   "outputs": [
    {
     "name": "stdout",
     "output_type": "stream",
     "text": [
      "Italia\n"
     ]
    }
   ],
   "source": [
    "l_citta = ['Roma', 'Torino', 'Barcellona']\n",
    "\n",
    "# poichè l_citta[0] è 'Roma',\n",
    "# posso usare tale elemento come chiave nel dizionario\n",
    "\n",
    "print(citta[l_citta[0]]) # equivalente a citta['Roma']"
   ]
  },
  {
   "cell_type": "code",
   "execution_count": 4,
   "id": "06a4193d",
   "metadata": {},
   "outputs": [
    {
     "name": "stdout",
     "output_type": "stream",
     "text": [
      "['Italia', 'Italia', 'Spagna']\n"
     ]
    }
   ],
   "source": [
    "# con la list comprehension posso\n",
    "# prendere uno ad uno gli elementi della lista\n",
    "# e usarli come chiavi\n",
    "\n",
    "print([citta[nome] for nome in l_citta])"
   ]
  },
  {
   "cell_type": "markdown",
   "id": "c8e75cc8",
   "metadata": {},
   "source": [
    "#### DICT COMPREHENSION\n",
    "\n",
    "Posso inizializzare un dizionario con la comprehension, esattamente come per le liste."
   ]
  },
  {
   "cell_type": "markdown",
   "id": "1e35c927",
   "metadata": {},
   "source": [
    "#### 1. Accoppiando chiavi e valori salvati in liste separate\n",
    "Se le keys e i values sono in due liste separate, posso farlo purché le chiavi e i rispettivi valori abbiano lo stesso indice nelle liste in cui si trovano. Infatti, con ***zip(lista_chiavi, lista_valori)*** creiamo tuple formate dagli elementi nelle due liste originali con lo stesso indice e la usiamo nella comprehension."
   ]
  },
  {
   "cell_type": "markdown",
   "id": "3ffed021",
   "metadata": {},
   "source": [
    "###### Come funziona zip?\n",
    "\"Accoppiando\" gli elementi che nelle due liste originali hanno stesso indice!"
   ]
  },
  {
   "cell_type": "code",
   "execution_count": 20,
   "id": "6fee6a67",
   "metadata": {},
   "outputs": [
    {
     "name": "stdout",
     "output_type": "stream",
     "text": [
      "[('a0', 'b0'), ('a1', 'b1'), ('a2', 'b2'), ('a3', 'b3')]\n"
     ]
    }
   ],
   "source": [
    "# liste originali\n",
    "lista_a = ['a0', 'a1', 'a2', 'a3']\n",
    "lista_b = ['b0', 'b1', 'b2', 'b3']\n",
    "\n",
    "# lista di valori \"accoppiati\"\n",
    "lista_zip_ab = list(zip(lista_a, lista_b))\n",
    "print(lista_zip_ab)"
   ]
  },
  {
   "cell_type": "markdown",
   "id": "b97a7af3",
   "metadata": {},
   "source": [
    "###### Come utilizzare zip in una dict comprehension"
   ]
  },
  {
   "cell_type": "code",
   "execution_count": 5,
   "id": "9e19e896",
   "metadata": {},
   "outputs": [],
   "source": [
    "# Liste di partenza\n",
    "citta = ['Roma', 'Torino', 'Barcellona'] # keys\n",
    "stati = ['Italia', 'Italia', 'Spagna'] # values"
   ]
  },
  {
   "cell_type": "code",
   "execution_count": 6,
   "id": "59a18af4",
   "metadata": {},
   "outputs": [
    {
     "name": "stdout",
     "output_type": "stream",
     "text": [
      "{'Roma': 'Italia', 'Torino': 'Italia', 'Barcellona': 'Spagna'}\n"
     ]
    }
   ],
   "source": [
    "elenco_citta = {k:v for k,v in zip(citta, stati)}\n",
    "print(elenco_citta)"
   ]
  },
  {
   "cell_type": "markdown",
   "id": "019d90e1",
   "metadata": {},
   "source": [
    "#### 2. Usando coppie chiave-valore salvate su un'unica lista\n",
    "Se le keys e i values sono accoppiati in tuple salvate sulla stessa lista, basterà usare il loro indice nella tupla che li contiene."
   ]
  },
  {
   "cell_type": "code",
   "execution_count": 7,
   "id": "c8827806",
   "metadata": {},
   "outputs": [],
   "source": [
    "# lista di tuple (key, value) => tupla[0] = key, tupla[1] = value\n",
    "lista_tuple = [('Roma', 'Italia'), ('Torino', 'Italia'), ('Barcellona', 'Spagna')]"
   ]
  },
  {
   "cell_type": "code",
   "execution_count": 8,
   "id": "d4f0d42e",
   "metadata": {},
   "outputs": [
    {
     "name": "stdout",
     "output_type": "stream",
     "text": [
      "{'Roma': 'Italia', 'Torino': 'Italia', 'Barcellona': 'Spagna'}\n"
     ]
    }
   ],
   "source": [
    "elenco_citta = {t[0]:t[1] for t in lista_tuple}\n",
    "print(elenco_citta)"
   ]
  },
  {
   "cell_type": "markdown",
   "id": "a9d7c5d5",
   "metadata": {},
   "source": [
    "#### ESERCIZIO\n",
    "Trovare gli stati associati a città in cui è presente la lettera 'r'."
   ]
  },
  {
   "cell_type": "code",
   "execution_count": 9,
   "id": "91fd7fe7",
   "metadata": {},
   "outputs": [],
   "source": [
    "# dizionario città-stato\n",
    "\n",
    "elenco_citta = dict()\n",
    "elenco_citta['Roma'] = 'Italia'\n",
    "elenco_citta['Torino'] = 'Italia'\n",
    "elenco_citta['Milano'] = 'Italia'\n",
    "elenco_citta['Barcellona'] = 'Spagna'\n",
    "elenco_citta['Parigi'] = 'Francia'\n",
    "elenco_citta['Oslo'] = 'Norvegia'\n",
    "elenco_citta['Vienna'] = 'Austria'"
   ]
  },
  {
   "cell_type": "code",
   "execution_count": 10,
   "id": "ab550ef5",
   "metadata": {},
   "outputs": [
    {
     "data": {
      "text/plain": [
       "['Italia', 'Spagna', 'Francia']"
      ]
     },
     "execution_count": 10,
     "metadata": {},
     "output_type": "execute_result"
    }
   ],
   "source": [
    "# con list comprehension e items()\n",
    "\n",
    "# con items() prendo le tuple chiave-valore,\n",
    "# cioé le coppie città-stato e le uso nel for-loop\n",
    "\n",
    "[stato for citta, stato in elenco_citta.items() if 'r' in citta]"
   ]
  },
  {
   "cell_type": "code",
   "execution_count": 11,
   "id": "0beb03ab",
   "metadata": {},
   "outputs": [
    {
     "name": "stdout",
     "output_type": "stream",
     "text": [
      "['Italia', 'Spagna', 'Francia']\n"
     ]
    }
   ],
   "source": [
    "# con list comprehension e keys()\n",
    "\n",
    "stati = [elenco_citta[citta] for citta in elenco_citta.keys() if 'r' in citta]\n",
    "print(stati)"
   ]
  },
  {
   "cell_type": "code",
   "execution_count": 12,
   "id": "85b3ce97",
   "metadata": {},
   "outputs": [
    {
     "name": "stdout",
     "output_type": "stream",
     "text": [
      "['Italia', 'Spagna', 'Francia']\n"
     ]
    }
   ],
   "source": [
    "# equivalente con ciclo for \"classico\"\n",
    "\n",
    "keys = elenco_citta.keys() # chiavi del dizionario\n",
    "stati = [] # lista per salvare i risultati\n",
    "\n",
    "for c in keys:\n",
    "    if 'r' in c:\n",
    "        stati.append(elenco_citta[c])\n",
    "        \n",
    "print(stati)"
   ]
  },
  {
   "cell_type": "markdown",
   "id": "ce0a4244",
   "metadata": {},
   "source": [
    "#### ELIMINARE UNA COPPIA CHIAVE-VALORE\n",
    "\n",
    "Per eliminare una coppia chiave-valore conoscendo la chiave, posso usare la funzione *del*."
   ]
  },
  {
   "cell_type": "code",
   "execution_count": 17,
   "id": "013e10d3",
   "metadata": {},
   "outputs": [
    {
     "name": "stdout",
     "output_type": "stream",
     "text": [
      "{3: 'tre', 2: 'due', 4.1: 'float number'}\n"
     ]
    }
   ],
   "source": [
    "# nota: anche i numeri possono essere usati come chiave\n",
    "\n",
    "d = {3: 'tre', 2: 'due', 4.1: 'float number'}\n",
    "print(d)"
   ]
  },
  {
   "cell_type": "code",
   "execution_count": 18,
   "id": "91df84e1",
   "metadata": {},
   "outputs": [
    {
     "name": "stdout",
     "output_type": "stream",
     "text": [
      "{2: 'due', 4.1: 'float number'}\n"
     ]
    }
   ],
   "source": [
    "del d[3]\n",
    "print(d)"
   ]
  }
 ],
 "metadata": {
  "kernelspec": {
   "display_name": "Python 3 (ipykernel)",
   "language": "python",
   "name": "python3"
  },
  "language_info": {
   "codemirror_mode": {
    "name": "ipython",
    "version": 3
   },
   "file_extension": ".py",
   "mimetype": "text/x-python",
   "name": "python",
   "nbconvert_exporter": "python",
   "pygments_lexer": "ipython3",
   "version": "3.10.7"
  }
 },
 "nbformat": 4,
 "nbformat_minor": 5
}
