{
 "cells": [
  {
   "cell_type": "markdown",
   "id": "76eac1b4",
   "metadata": {},
   "source": [
    "# LE TUPLE"
   ]
  },
  {
   "cell_type": "markdown",
   "id": "837a165b",
   "metadata": {},
   "source": [
    "Le tuple sono elementi ordinati e *immutabili*, cioé non posso cambiarne gli elementi una volta dichiarate.\\\n",
    "A livello sintattico, si comportano molto similmente alle liste, che possono essere viste come la controparte \"mutabile\" delle tuple.\\\n",
    "Entrambe, inoltre, possono essere vuote o contenere elementi ripetuti.\n",
    "\n",
    "#### DICHIARAZIONE"
   ]
  },
  {
   "cell_type": "code",
   "execution_count": 1,
   "id": "e5562d3c",
   "metadata": {},
   "outputs": [
    {
     "name": "stdout",
     "output_type": "stream",
     "text": [
      "(1, 3)\n",
      "(1, 2, 3, 4, 5)\n"
     ]
    }
   ],
   "source": [
    "# metodo 1\n",
    "t = (1,3)\n",
    "print(t)\n",
    "\n",
    "# metodo 2\n",
    "t = tuple((1,2,3,4,5))\n",
    "print(t)"
   ]
  },
  {
   "cell_type": "code",
   "execution_count": 2,
   "id": "7240c60b",
   "metadata": {},
   "outputs": [
    {
     "name": "stdout",
     "output_type": "stream",
     "text": [
      "(1,) <class 'tuple'>\n",
      "1 <class 'int'>\n"
     ]
    }
   ],
   "source": [
    "# ATTENZIONE per il metodo 2:\n",
    "# se ho un solo elemento, devo mettere ',' alla fine!\n",
    "\n",
    "tupla_uno = (1,)\n",
    "elemento_uno = (1)\n",
    "\n",
    "print(tupla_uno, type(tupla_uno))\n",
    "print(elemento_uno, type(elemento_uno))"
   ]
  },
  {
   "cell_type": "code",
   "execution_count": 3,
   "id": "58000220",
   "metadata": {},
   "outputs": [
    {
     "name": "stdout",
     "output_type": "stream",
     "text": [
      "2 (1, 2, 3) (5, 4, 3, 2, 1)\n"
     ]
    }
   ],
   "source": [
    "# slicing e indexing (come per le liste)\n",
    "print(t[1], t[:3], t[::-1])"
   ]
  },
  {
   "cell_type": "markdown",
   "id": "6c13dd51",
   "metadata": {},
   "source": [
    "###### Posso usare la comprehension per i tuple?\n",
    "\n",
    "Non si può. I tuple sono immutabili, quindi devo passare tutti gli elemeni per l'inizializzazione nello stesso momento, non posso crearne e aggiungerne uno alla volta."
   ]
  },
  {
   "cell_type": "code",
   "execution_count": 41,
   "id": "9fcf99b8",
   "metadata": {},
   "outputs": [
    {
     "name": "stdout",
     "output_type": "stream",
     "text": [
      "t_comp non è una tupla!\n",
      "Infatti è un <class 'generator'>\n"
     ]
    }
   ],
   "source": [
    "t_comp = (v for v in range(5))\n",
    "print('t_comp non è una tupla!\\nInfatti è un', type(t_comp))"
   ]
  },
  {
   "cell_type": "markdown",
   "id": "f6c640fb",
   "metadata": {},
   "source": [
    "#### OPERATORE *in*\n",
    "\n",
    "L'operatore *in* serve per cercare un elemento (ad esempio, una stringa) in un altro (ad esempio, una lista)."
   ]
  },
  {
   "cell_type": "code",
   "execution_count": 4,
   "id": "9172b038",
   "metadata": {},
   "outputs": [
    {
     "name": "stdout",
     "output_type": "stream",
     "text": [
      "(3, 16, 25, 49) [3, 16, 25, 49] 3162549\n",
      "False True False True False\n"
     ]
    }
   ],
   "source": [
    "t = (3, 16, 25, 49)\n",
    "l = [v for v in t]\n",
    "s = ''.join([str(v) for v in t])\n",
    "print(t, l, s)\n",
    "print(5 in t, 16 in t, '5' in l, '5' in s, '7' in s)"
   ]
  },
  {
   "cell_type": "markdown",
   "id": "535ceb37",
   "metadata": {},
   "source": [
    "#### \"MODIFICARE\" UNA TUPLA\n",
    "\n",
    "Per \"modificare\" una tupla, posso convertirla in lista (che è un oggetto mutabile) e, dopo aver fatto le modifiche desiderate, riconvertire il tutto in una NUOVA tupla."
   ]
  },
  {
   "cell_type": "code",
   "execution_count": 5,
   "id": "9496bd7c",
   "metadata": {},
   "outputs": [
    {
     "name": "stdout",
     "output_type": "stream",
     "text": [
      "(1, 2, 3, 4, 5)\n",
      "[1, 2, 'x', 4, 5]\n"
     ]
    }
   ],
   "source": [
    "tupla = (1, 2, 3, 4, 5)\n",
    "print(tupla)\n",
    "\n",
    "l = list(tupla)\n",
    "l[2] = 'x'\n",
    "print(l)"
   ]
  },
  {
   "cell_type": "code",
   "execution_count": 6,
   "id": "80fbe380",
   "metadata": {},
   "outputs": [
    {
     "name": "stdout",
     "output_type": "stream",
     "text": [
      "(1, 2, 3, 4, 5)\n",
      "(1, 2, 'x', 4, 5)\n"
     ]
    }
   ],
   "source": [
    "tupla_modificata = tuple(l)\n",
    "print(tupla)\n",
    "print(tupla_modificata)"
   ]
  },
  {
   "cell_type": "markdown",
   "id": "43b9bb6e",
   "metadata": {},
   "source": [
    "# I SET\n",
    "\n",
    "Un set è una collezione *unchangeable* e *NON ordinata* di elementi che NON si ripetono. Con \"unchangeable\" si intende che gli elementi singoli in un set non possono essere modificati ma possiamo aggiungere/eliminare degli elementi da un set (tramite metodi specifici)."
   ]
  },
  {
   "cell_type": "code",
   "execution_count": 7,
   "id": "062156c4",
   "metadata": {},
   "outputs": [
    {
     "name": "stdout",
     "output_type": "stream",
     "text": [
      "{1, 2, 3}\n"
     ]
    }
   ],
   "source": [
    "# gli elementi in un set NON si ripetono\n",
    "group = {1, 2, 2, 3, 3, 3}\n",
    "print(group)"
   ]
  },
  {
   "cell_type": "code",
   "execution_count": 8,
   "id": "3ff2ff53",
   "metadata": {},
   "outputs": [
    {
     "name": "stdout",
     "output_type": "stream",
     "text": [
      "operazione non possibile perché: 'set' object is not subscriptable\n"
     ]
    }
   ],
   "source": [
    "# il set non è \"ordinato\" --> NO INDICE!\n",
    "try:\n",
    "    group[0]\n",
    "except Exception as e:\n",
    "    print('operazione non possibile perché:', e)"
   ]
  },
  {
   "cell_type": "markdown",
   "id": "5857f631",
   "metadata": {},
   "source": [
    "#### LISTA vs SET\n",
    "\n",
    "Perché preferire un set a una lista?\\\n",
    "I set sono ottimizzati per la ricerca di elementi in essi."
   ]
  },
  {
   "cell_type": "code",
   "execution_count": 9,
   "id": "130e7fbd",
   "metadata": {},
   "outputs": [],
   "source": [
    "l_grande = list(range(10**5))\n",
    "s_grande = set(range(10**5))"
   ]
  },
  {
   "cell_type": "code",
   "execution_count": 17,
   "id": "2af1d561",
   "metadata": {},
   "outputs": [
    {
     "name": "stdout",
     "output_type": "stream",
     "text": [
      "ricerca eseguita in 0.0009429454803466797 s\n"
     ]
    }
   ],
   "source": [
    "import time\n",
    "\n",
    "# prendi il timestamp all'inizio\n",
    "start = time.time() \n",
    "\n",
    "# cerca elemento in lista\n",
    "9999 in l_grande\n",
    "\n",
    "# prendi il timestamp \n",
    "end = time.time() \n",
    "\n",
    "print('ricerca eseguita in', end-start, 's')"
   ]
  },
  {
   "cell_type": "code",
   "execution_count": 19,
   "id": "3726f6c6",
   "metadata": {},
   "outputs": [
    {
     "name": "stdout",
     "output_type": "stream",
     "text": [
      "ricerca eseguita in 0.0 s\n"
     ]
    }
   ],
   "source": [
    "# prendi il timestamp all'inizio\n",
    "start = time.time() \n",
    "\n",
    "# cerca elemento in lista\n",
    "9999 in s_grande\n",
    "\n",
    "# prendi il timestamp \n",
    "end = time.time() \n",
    "\n",
    "print('ricerca eseguita in', end-start, 's')"
   ]
  },
  {
   "cell_type": "markdown",
   "id": "74ff2ee1",
   "metadata": {},
   "source": [
    "***Invece di usare il modulo \"time\", posso usare la funzione speciale per celle di Jupyter chiamata \"%%time\".***"
   ]
  },
  {
   "cell_type": "code",
   "execution_count": 15,
   "id": "5290af7a",
   "metadata": {},
   "outputs": [
    {
     "name": "stdout",
     "output_type": "stream",
     "text": [
      "CPU times: total: 0 ns\n",
      "Wall time: 993 µs\n"
     ]
    },
    {
     "data": {
      "text/plain": [
       "True"
      ]
     },
     "execution_count": 15,
     "metadata": {},
     "output_type": "execute_result"
    }
   ],
   "source": [
    "%%time\n",
    "9999 in l_grande"
   ]
  },
  {
   "cell_type": "code",
   "execution_count": 16,
   "id": "683984a4",
   "metadata": {},
   "outputs": [
    {
     "name": "stdout",
     "output_type": "stream",
     "text": [
      "CPU times: total: 0 ns\n",
      "Wall time: 0 ns\n"
     ]
    },
    {
     "data": {
      "text/plain": [
       "True"
      ]
     },
     "execution_count": 16,
     "metadata": {},
     "output_type": "execute_result"
    }
   ],
   "source": [
    "%%time\n",
    "9999 in s_grande"
   ]
  },
  {
   "cell_type": "markdown",
   "id": "d0ba9552",
   "metadata": {},
   "source": [
    "#### OPERATORI LOGICI"
   ]
  },
  {
   "cell_type": "code",
   "execution_count": 28,
   "id": "f92e3835",
   "metadata": {},
   "outputs": [],
   "source": [
    "s1 = {1, 2, 3}\n",
    "s2 = {3, 4, 5, 6}"
   ]
  },
  {
   "cell_type": "code",
   "execution_count": 29,
   "id": "13e0206d",
   "metadata": {},
   "outputs": [
    {
     "name": "stdout",
     "output_type": "stream",
     "text": [
      "{1, 2, 3, 4, 5, 6}\n"
     ]
    }
   ],
   "source": [
    "# UNIONE (or)\n",
    "print(s1 | s2)"
   ]
  },
  {
   "cell_type": "code",
   "execution_count": 30,
   "id": "888c4345",
   "metadata": {},
   "outputs": [
    {
     "name": "stdout",
     "output_type": "stream",
     "text": [
      "{3}\n"
     ]
    }
   ],
   "source": [
    "# INTERSEZIONE (and)\n",
    "print(s1 & s2)"
   ]
  },
  {
   "cell_type": "code",
   "execution_count": 31,
   "id": "d9c83c04",
   "metadata": {},
   "outputs": [
    {
     "name": "stdout",
     "output_type": "stream",
     "text": [
      "{1, 2, 4, 5, 6}\n"
     ]
    }
   ],
   "source": [
    "# COMPLEMENTARE (xor)\n",
    "# cioé cercare gli elementi non in comune\n",
    "\n",
    "print(s1 ^ s2)"
   ]
  },
  {
   "cell_type": "markdown",
   "id": "baa5c4ff",
   "metadata": {},
   "source": [
    "#### SET COMPREHENSION\n",
    "\n",
    "Così come per le liste, anche per i set è possibile usare fare l'inizializzazione tramite comprehension."
   ]
  },
  {
   "cell_type": "code",
   "execution_count": 33,
   "id": "bcf79b95",
   "metadata": {},
   "outputs": [
    {
     "name": "stdout",
     "output_type": "stream",
     "text": [
      "{0, 1, 64, 4, 36, 9, 16, 49, 81, 25}\n"
     ]
    }
   ],
   "source": [
    "s_quad = {n**2 for n in range(10)}\n",
    "print(s_quad)"
   ]
  }
 ],
 "metadata": {
  "kernelspec": {
   "display_name": "Python 3 (ipykernel)",
   "language": "python",
   "name": "python3"
  },
  "language_info": {
   "codemirror_mode": {
    "name": "ipython",
    "version": 3
   },
   "file_extension": ".py",
   "mimetype": "text/x-python",
   "name": "python",
   "nbconvert_exporter": "python",
   "pygments_lexer": "ipython3",
   "version": "3.10.7"
  }
 },
 "nbformat": 4,
 "nbformat_minor": 5
}
