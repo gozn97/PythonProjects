{
 "cells": [
  {
   "cell_type": "markdown",
   "id": "198b25cd",
   "metadata": {},
   "source": [
    "# LE STRINGHE"
   ]
  },
  {
   "cell_type": "markdown",
   "id": "16bd8090",
   "metadata": {},
   "source": [
    "In Python, le stringhe sono viste come \"sequenze di caratteri\". La stringa è un tipo di dato Python che contiene funzioni per poterla utilizzare comodamente. "
   ]
  },
  {
   "cell_type": "markdown",
   "id": "49b2ca46",
   "metadata": {},
   "source": [
    "Si può fare \"slicing\", cioé prendere una sottostringa.\n",
    "La sintassi è \\$stringa[start:stop:step]$\\\n",
    "Se non specificato, di default:\n",
    "- start = 0\n",
    "- stop = length\n",
    "- step = 1\\\n",
    "Il parametro step può essere negativo, cioé si parte dalla fine della stringa e si procede al contrario."
   ]
  },
  {
   "cell_type": "code",
   "execution_count": 40,
   "id": "b051c2fe",
   "metadata": {},
   "outputs": [
    {
     "name": "stdout",
     "output_type": "stream",
     "text": [
      "012 56789 12345678\n"
     ]
    }
   ],
   "source": [
    "# SLICING E INDEXING (come le liste)\n",
    "s = '0123456789'\n",
    "print(s[:3], s[-5:], s[1:-1])"
   ]
  },
  {
   "cell_type": "code",
   "execution_count": 4,
   "id": "a8766042",
   "metadata": {},
   "outputs": [
    {
     "name": "stdout",
     "output_type": "stream",
     "text": [
      "02468 13579\n"
     ]
    }
   ],
   "source": [
    "print(s[::2], s[1::2]) "
   ]
  },
  {
   "cell_type": "code",
   "execution_count": 5,
   "id": "1baf10df",
   "metadata": {},
   "outputs": [
    {
     "name": "stdout",
     "output_type": "stream",
     "text": [
      "2\n"
     ]
    }
   ],
   "source": [
    "print(s[2])"
   ]
  },
  {
   "cell_type": "markdown",
   "id": "7d97cd21",
   "metadata": {},
   "source": [
    "#### MODIFICARE LISTE E STRINGHE\n",
    "\n",
    "Le liste sono *mutabili*, cioé possiamo cambiare gli elementi al loro interno, aggiungerne altri o elimarne alcuni.\\\n",
    "Le stringhe sono *immutabili*, cioé una volta dichiarata una stringa, non può essere modificata."
   ]
  },
  {
   "cell_type": "code",
   "execution_count": 6,
   "id": "e4226369",
   "metadata": {},
   "outputs": [
    {
     "name": "stdout",
     "output_type": "stream",
     "text": [
      "[0, 1, 2, 3, 4, 5, 6, 7, 8, 9]\n",
      "[0, 1, 'ciao', 3, 4, 5, 6, 7, 8, 9]\n"
     ]
    }
   ],
   "source": [
    "l = [0, 1, 2, 3, 4, 5, 6, 7, 8, 9] \n",
    "print(l)\n",
    "l[2] = 'ciao' # mutabile: posso cambiarne gli elementi\n",
    "print(l)"
   ]
  },
  {
   "cell_type": "code",
   "execution_count": 8,
   "id": "24b2a6d5",
   "metadata": {},
   "outputs": [
    {
     "name": "stdout",
     "output_type": "stream",
     "text": [
      "operazione fallita\n"
     ]
    }
   ],
   "source": [
    "try:\n",
    "    s[2] = 'x' # immutabile: NON posso cambiarne gli elementi\n",
    "except:\n",
    "    print('operazione fallita')"
   ]
  },
  {
   "cell_type": "code",
   "execution_count": 9,
   "id": "830f272c",
   "metadata": {},
   "outputs": [
    {
     "name": "stdout",
     "output_type": "stream",
     "text": [
      "01x3456789\n"
     ]
    }
   ],
   "source": [
    "# per cambiare un carattere, posso creare una nuova stringa\n",
    "#partendo da substrings ottenute dalla stringa originale\n",
    "s = s[:2] + 'x' + s[3:] \n",
    "print(s)"
   ]
  },
  {
   "cell_type": "markdown",
   "id": "c97ba997",
   "metadata": {},
   "source": [
    "##### USO DEGLI APICI\n",
    "\n",
    "Nelle stringhe posso usare sia '' che \"\", anche in maniera combinata.\\\n",
    "Attenzione: un apice va sempre chiuso con un altro del suo stesso tipo:\n",
    "- \"...\" OK\n",
    "- '...' OK\n",
    "- \"...' NO\n",
    "- '...\" NO"
   ]
  },
  {
   "cell_type": "code",
   "execution_count": 10,
   "id": "a34e85cd",
   "metadata": {},
   "outputs": [
    {
     "name": "stdout",
     "output_type": "stream",
     "text": [
      "ciao ciao questo è un \"esempio\" di utilizzo di apici combinati\n"
     ]
    }
   ],
   "source": [
    "# uso degli apici\n",
    "s2 = \"ciao\"\n",
    "s3 = 'ciao'\n",
    "s4 = 'questo è un \"esempio\" di utilizzo di apici combinati'\n",
    "print(s2, s3, s4)"
   ]
  },
  {
   "cell_type": "markdown",
   "id": "0fa8cb18",
   "metadata": {},
   "source": [
    "##### CARATTERI SPECIALI E ANDARE A CAPO\n",
    "\n",
    "Nelle stringhe si possono usare caratteri speciali.\\\n",
    "Ad esempio \\n serve per andare a capo e \\t per la tabulazione. "
   ]
  },
  {
   "cell_type": "code",
   "execution_count": 11,
   "id": "7813a5d0",
   "metadata": {},
   "outputs": [
    {
     "name": "stdout",
     "output_type": "stream",
     "text": [
      "1\n",
      "2\n",
      "3\n",
      "auguri\n"
     ]
    }
   ],
   "source": [
    "# \\n = nuova riga\n",
    "s = '1\\n2\\n3\\nauguri'\n",
    "print(s)"
   ]
  },
  {
   "cell_type": "code",
   "execution_count": 12,
   "id": "96c502e4",
   "metadata": {},
   "outputs": [
    {
     "name": "stdout",
     "output_type": "stream",
     "text": [
      "NOME\tCOGNOME\n",
      "MARIA\tVERDI\n",
      "MARIO\tROSSI\n"
     ]
    }
   ],
   "source": [
    "# \\t = tab\n",
    "s = 'NOME\\tCOGNOME\\nMARIA\\tVERDI\\nMARIO\\tROSSI'\n",
    "print(s)"
   ]
  },
  {
   "cell_type": "markdown",
   "id": "87ad6d2d",
   "metadata": {},
   "source": [
    "Per le stringhe troppo lunghe, invece di una sola coppia di apici, uso tre coppie di apici doppi (\"\").\\\n",
    "In questo modo posso andare a capo premendo semplicemente invio (come quando sono in un tipico editor di testo)\\\n",
    "invece di dover usare spesso il carattere speciale \\n."
   ]
  },
  {
   "cell_type": "code",
   "execution_count": 13,
   "id": "afd95a5a",
   "metadata": {},
   "outputs": [
    {
     "name": "stdout",
     "output_type": "stream",
     "text": [
      " questa stringa\n",
      "è molto\n",
      "lunga\n",
      "'posso anche usare gli apici singoli!'\n",
      "\n",
      "\n"
     ]
    }
   ],
   "source": [
    "s = \"\"\" questa stringa\n",
    "è molto\n",
    "lunga\n",
    "'posso anche usare gli apici singoli!'\n",
    "\n",
    "\"\"\"\n",
    "print(s)"
   ]
  },
  {
   "cell_type": "markdown",
   "id": "63485420",
   "metadata": {},
   "source": [
    "#### OPERATORI\n",
    "\n",
    "Si possono concatenare le stringhe tramite l'operatore di addizione ($+$). A differenza dell'effetto che il $+$ ha sui dati numerici, il risultato cambia. Python capisce come usare l'operatore in base al tipo di dato. Si dice che fa 'inferenza' con il tipo di dato.\\\n",
    "Si può anche usare l'operatore $*$ per ripetere una stringa, mentre l'effetto di tale operatore su una lista è quello di ripetere i **singoli elementi** all'interno di essa.\\\n",
    "Tramite metodi speciali, si può anche sovrascrivere il comportamento degli operatori fondamentali."
   ]
  },
  {
   "cell_type": "code",
   "execution_count": 14,
   "id": "26c4919e",
   "metadata": {},
   "outputs": [
    {
     "name": "stdout",
     "output_type": "stream",
     "text": [
      "ciaociaociaociaociao\n"
     ]
    }
   ],
   "source": [
    "s = 'ciao'\n",
    "print(s*5) # ripetizione della stringa"
   ]
  },
  {
   "cell_type": "code",
   "execution_count": 17,
   "id": "d8317728",
   "metadata": {},
   "outputs": [
    {
     "name": "stdout",
     "output_type": "stream",
     "text": [
      "[0, 1, 'ciao', 3, 4, 5, 6, 7, 8, 9, 0, 1, 'ciao', 3, 4, 5, 6, 7, 8, 9]\n"
     ]
    }
   ],
   "source": [
    "print(l*2) #ripetizione elementi della lista"
   ]
  },
  {
   "cell_type": "code",
   "execution_count": 20,
   "id": "8c2a7242",
   "metadata": {},
   "outputs": [
    {
     "name": "stdout",
     "output_type": "stream",
     "text": [
      "0-1-ciao-3-4-5-6-7-8-9\n"
     ]
    }
   ],
   "source": [
    "# funzione built-in str() per cambiare il tipo in stringa\n",
    "st = '-'.join([str(v) for v in l])\n",
    "#l.join('-') non funzionerebbe perchè join è metodo per stringhe, non per liste\n",
    "print(st)"
   ]
  },
  {
   "cell_type": "markdown",
   "id": "608f1144",
   "metadata": {},
   "source": [
    "#### METODI DELLE STRINGHE UTILI\n",
    "\n",
    "1. *join()* è un metodo delle stringhe che prende in ingresso una lista di stringhe e dà in output una stringa composta da tutti gli elementi della lista separati dalla stringa usata per chiamare il metodo. **stringa_separatore.*join*(lista_da_unire)**\n",
    "\n",
    "2. *split()* separa una stringa in sottostringhe dove viene trovato un certo carattere e le mette in una lista. Se nessun carattere viene passato, di default *split()* divide la stringa dove trova uno spazio. **stringa_da_separare.*split*(stringa_separatore)**\n",
    "\n",
    "3. *replace()* rimpiazza una sottostringa con un'altra, creando però una nuova stringa invece di modificare quella originale. **stringa_originale.*replace*(sottostringa_da_rimpiazzare)**\n",
    "\n",
    "4. *find()* dice l'indice da cui parte una sottostringa (il metodo corrispettivo per le liste è *index()*). **stringa_originale.*find*(sottostringa_da_cercare)**\n",
    "\n",
    "5. *strip()* elimina un determinato carattere all'inizio e alla fine di una stringa. Se non viene passato nessun parametro, *strip()* di default elimina gli spazi all'inizio e alla fine. **stringa_originale.*strip*(carattere_da_eliminare)**"
   ]
  },
  {
   "cell_type": "code",
   "execution_count": 21,
   "id": "d1a22e52",
   "metadata": {},
   "outputs": [
    {
     "name": "stdout",
     "output_type": "stream",
     "text": [
      "9\n"
     ]
    }
   ],
   "source": [
    "# find() dice l'indice da cui parte la sottostringa\n",
    "print(st.find('3-4'))"
   ]
  },
  {
   "cell_type": "code",
   "execution_count": 22,
   "id": "f1356a06",
   "metadata": {},
   "outputs": [
    {
     "name": "stdout",
     "output_type": "stream",
     "text": [
      "hdghasgdh\n"
     ]
    }
   ],
   "source": [
    "st = '     hdghasgdh    '\n",
    "print(st.strip()) # strip() elimina tutti gli spazi all'inizio e alla fine"
   ]
  },
  {
   "cell_type": "code",
   "execution_count": 37,
   "id": "cd4da6e1",
   "metadata": {},
   "outputs": [
    {
     "name": "stdout",
     "output_type": "stream",
     "text": [
      "quanto mi piace python!\n"
     ]
    }
   ],
   "source": [
    "# replace() rimpiazza una sottostringa con un'altra\n",
    "st2 = 'non mi piace python!'\n",
    "st2 = st2.replace('non', 'quanto')\n",
    "print(st2)"
   ]
  },
  {
   "cell_type": "code",
   "execution_count": 35,
   "id": "5fe78c13",
   "metadata": {},
   "outputs": [
    {
     "name": "stdout",
     "output_type": "stream",
     "text": [
      "a b c d\n"
     ]
    }
   ],
   "source": [
    "# join() unisce gli elementi di una lista in una stringa\n",
    "\n",
    "l = ['a', 'b', 'c', 'd'] # lista di stringhe\n",
    "\n",
    "nuova_stringa = ' '.join(l)\n",
    "# in pratica: a+' '+b+' '+c+' '+d\n",
    "\n",
    "print(nuova_stringa)"
   ]
  },
  {
   "cell_type": "code",
   "execution_count": 36,
   "id": "842edc41",
   "metadata": {},
   "outputs": [
    {
     "name": "stdout",
     "output_type": "stream",
     "text": [
      "['a', 'b', 'c', 'd']\n"
     ]
    }
   ],
   "source": [
    "# split() divide la stringa dove c'è un carattere specifico\n",
    "\n",
    "# separo gli elementi dove vedo ' '\n",
    "nuova_lista = nuova_stringa.split(' ')\n",
    "print(nuova_lista)"
   ]
  },
  {
   "cell_type": "code",
   "execution_count": 39,
   "id": "a4dc78f3",
   "metadata": {},
   "outputs": [
    {
     "name": "stdout",
     "output_type": "stream",
     "text": [
      "['x', 'y', 'z']\n"
     ]
    }
   ],
   "source": [
    "# per ottenere una lista di caratteri da una stringa\n",
    "# fare il casting (cioé fare una \"conversione\")\n",
    "stringa = 'xyz'\n",
    "l = list(stringa)\n",
    "print(l)"
   ]
  }
 ],
 "metadata": {
  "kernelspec": {
   "display_name": "Python 3 (ipykernel)",
   "language": "python",
   "name": "python3"
  },
  "language_info": {
   "codemirror_mode": {
    "name": "ipython",
    "version": 3
   },
   "file_extension": ".py",
   "mimetype": "text/x-python",
   "name": "python",
   "nbconvert_exporter": "python",
   "pygments_lexer": "ipython3",
   "version": "3.10.7"
  }
 },
 "nbformat": 4,
 "nbformat_minor": 5
}
