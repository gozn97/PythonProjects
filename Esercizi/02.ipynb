{
 "cells": [
  {
   "cell_type": "code",
   "execution_count": 8,
   "id": "b79ecf60",
   "metadata": {},
   "outputs": [
    {
     "name": "stdout",
     "output_type": "stream",
     "text": [
      "[2, 8, 34, 144, 610]\n"
     ]
    }
   ],
   "source": [
    "n = 1000\n",
    "a1 = 1\n",
    "a2 = 1\n",
    "serie = []\n",
    "while (a2<n):\n",
    "    if a2%2 == 0:\n",
    "        serie.append(a2)\n",
    "    a3 = a2+a1\n",
    "    a1 = a2\n",
    "    a2 = a3\n",
    "print(serie)"
   ]
  },
  {
   "cell_type": "code",
   "execution_count": 28,
   "id": "4de1111f",
   "metadata": {},
   "outputs": [
    {
     "name": "stdout",
     "output_type": "stream",
     "text": [
      "[(2, 3), (5, 6), (9, 10)]\n",
      "[]\n"
     ]
    }
   ],
   "source": [
    "def find_doubles(s):\n",
    "    l = []\n",
    "    for i in range(0,len(s)-1):\n",
    "        if s[i]==s[i+1]:\n",
    "            l.append((i,i+1))\n",
    "    return l\n",
    "print(find_doubles(\"cappuccietto\"))\n",
    "print(find_doubles(\"\"))"
   ]
  },
  {
   "cell_type": "code",
   "execution_count": 75,
   "id": "163ef402",
   "metadata": {},
   "outputs": [
    {
     "name": "stdout",
     "output_type": "stream",
     "text": [
      "False\n",
      "False\n",
      "True\n",
      "True\n",
      "False\n"
     ]
    }
   ],
   "source": [
    "def is_prime(n):\n",
    "    for i in range(2,round(n)):\n",
    "        if n%i==0:\n",
    "            return False\n",
    "    return True\n",
    "print(is_prime(10))\n",
    "print(is_prime(12))\n",
    "print(is_prime(2))\n",
    "print(is_prime(3))\n",
    "print(is_prime(4))"
   ]
  },
  {
   "cell_type": "code",
   "execution_count": 47,
   "id": "d3f92b7c",
   "metadata": {},
   "outputs": [
    {
     "data": {
      "text/plain": [
       "True"
      ]
     },
     "execution_count": 47,
     "metadata": {},
     "output_type": "execute_result"
    }
   ],
   "source": [
    "def are_twin_prime(n1,n2):\n",
    "    return is_prime(n1) and is_prime(n2) and abs(n1-n2)<=2\n",
    "are_twin_prime(3,5)"
   ]
  },
  {
   "cell_type": "code",
   "execution_count": 73,
   "id": "f91a9ea4",
   "metadata": {},
   "outputs": [
    {
     "name": "stdout",
     "output_type": "stream",
     "text": [
      "[(2, 1), (5, 1)]\n",
      "[(2, 1)]\n",
      "[(2, 2)]\n",
      "[(2, 5)]\n"
     ]
    }
   ],
   "source": [
    "def factorization(n):\n",
    "    if is_prime(n):\n",
    "        return [(n,1)]\n",
    "    factors = {}\n",
    "    cd = n\n",
    "    for i in range(2,n):\n",
    "        while cd%i == 0:\n",
    "            cd = cd/i\n",
    "            if i in factors:\n",
    "                factors[i]=factors[i]+1\n",
    "            else:\n",
    "                factors[i]=1\n",
    "            if cd == 1:\n",
    "                break\n",
    "    return [(k,v) for k,v in factors.items()]\n",
    "print(factorization(10))\n",
    "print(factorization(2))\n",
    "print(factorization(4))\n",
    "print(factorization(32))"
   ]
  },
  {
   "cell_type": "code",
   "execution_count": 65,
   "id": "0a57d27c",
   "metadata": {},
   "outputs": [
    {
     "data": {
      "text/plain": [
       "True"
      ]
     },
     "execution_count": 65,
     "metadata": {},
     "output_type": "execute_result"
    }
   ],
   "source": []
  },
  {
   "cell_type": "code",
   "execution_count": null,
   "id": "b1d20ac0",
   "metadata": {},
   "outputs": [],
   "source": []
  }
 ],
 "metadata": {
  "kernelspec": {
   "display_name": "Python 3 (ipykernel)",
   "language": "python",
   "name": "python3"
  },
  "language_info": {
   "codemirror_mode": {
    "name": "ipython",
    "version": 3
   },
   "file_extension": ".py",
   "mimetype": "text/x-python",
   "name": "python",
   "nbconvert_exporter": "python",
   "pygments_lexer": "ipython3",
   "version": "3.10.7"
  }
 },
 "nbformat": 4,
 "nbformat_minor": 5
}
