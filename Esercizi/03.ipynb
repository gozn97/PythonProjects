{
 "cells": [
  {
   "cell_type": "code",
   "execution_count": 12,
   "id": "7fd14bd5",
   "metadata": {},
   "outputs": [
    {
     "data": {
      "text/plain": [
       "{'b': 3, 'c': 3, 'd': 2}"
      ]
     },
     "execution_count": 12,
     "metadata": {},
     "output_type": "execute_result"
    }
   ],
   "source": [
    "def exercise_1(s):\n",
    "    frequency = {}\n",
    "    for c in s:\n",
    "        if c not in ('a','e','i','o','u'):\n",
    "            if c in frequency:\n",
    "                frequency[c]=frequency[c]+1\n",
    "            else:\n",
    "                frequency[c]=1\n",
    "    most_frequent = []\n",
    "    max_frequency = 0\n",
    "    for k,v in frequency.items():\n",
    "        if v>max_frequency:\n",
    "            most_frequent = [k]\n",
    "            max_frequency = v\n",
    "        elif v == max_frequency:\n",
    "            most_frequent.append(k)\n",
    "    return frequency\n",
    "exercise_1('aaabbbcccdd')"
   ]
  },
  {
   "cell_type": "code",
   "execution_count": 15,
   "id": "9a2922fb",
   "metadata": {},
   "outputs": [
    {
     "data": {
      "text/plain": [
       "{'aaabbbcccdd': {'a': 3}, 'uuuiiiooo': {'u': 3, 'i': 3, 'o': 3}}"
      ]
     },
     "execution_count": 15,
     "metadata": {},
     "output_type": "execute_result"
    }
   ],
   "source": [
    "def most_frequent_vocals(s):\n",
    "    frequency = {}\n",
    "    for c in s:\n",
    "        if c in ('a','e','i','o','u'):\n",
    "            if c in frequency:\n",
    "                frequency[c]=frequency[c]+1\n",
    "            else:\n",
    "                frequency[c]=1\n",
    "    most_frequent = []\n",
    "    max_frequency = 0\n",
    "    for k,v in frequency.items():\n",
    "        if v>max_frequency:\n",
    "            most_frequent = [k]\n",
    "            max_frequency = v\n",
    "        elif v == max_frequency:\n",
    "            most_frequent.append(k)\n",
    "    return frequency\n",
    "\n",
    "def exercise_2(ls):\n",
    "    return {s: most_frequent_vocals(s) for s in ls}\n",
    "\n",
    "exercise_2(['aaabbbcccdd', 'uuuiiiooo'])\n",
    "    "
   ]
  },
  {
   "cell_type": "code",
   "execution_count": 24,
   "id": "9052583a",
   "metadata": {},
   "outputs": [
    {
     "data": {
      "text/plain": [
       "(4, 8)"
      ]
     },
     "execution_count": 24,
     "metadata": {},
     "output_type": "execute_result"
    }
   ],
   "source": [
    "def exercise_3(n1,n2):\n",
    "    max_n = n1 if n1>n2 else n2\n",
    "    min_n = n2 if n1>n2 else n1\n",
    "    mcd = 0\n",
    "    mcm = 0\n",
    "    \n",
    "    for i in range(min_n,0,-1):\n",
    "        if min_n%i==0 and max_n%i==0:\n",
    "            mcd = i\n",
    "            break\n",
    "    for i in range(min_n,(min_n*max_n)+1):\n",
    "        if i%min_n==0 and i%max_n==0:\n",
    "            mcm = i\n",
    "            break\n",
    "    return (mcd,mcm)\n",
    "exercise_3(4,8)"
   ]
  },
  {
   "cell_type": "code",
   "execution_count": 41,
   "id": "d4507802",
   "metadata": {},
   "outputs": [
    {
     "name": "stdout",
     "output_type": "stream",
     "text": [
      "tata\n",
      "ta\n",
      "\n"
     ]
    },
    {
     "data": {
      "text/plain": [
       "['pa', 'ta', 'ta']"
      ]
     },
     "execution_count": 41,
     "metadata": {},
     "output_type": "execute_result"
    }
   ],
   "source": [
    "def exercise_4(s):\n",
    "    sillabe = []\n",
    "    vocali = ['a','e','i','o','u']\n",
    "    ss = s\n",
    "    \n",
    "    if ss[0] in vocali and ss[1] not in vocali:\n",
    "        sillabe.append(ss[0])\n",
    "        ss = ss[1:]\n",
    "        \n",
    "    while ss != '':\n",
    "        if ss[0] not in vocali and ss[1] in vocali:\n",
    "            sillabe.append(ss[0:2])\n",
    "            ss = ss[2:] \n",
    "        print(ss)\n",
    "    return sillabe\n",
    "exercise_4('patata')\n",
    "        "
   ]
  },
  {
   "cell_type": "code",
   "execution_count": 39,
   "id": "5b0d9924",
   "metadata": {},
   "outputs": [
    {
     "data": {
      "text/plain": [
       "''"
      ]
     },
     "execution_count": 39,
     "metadata": {},
     "output_type": "execute_result"
    }
   ],
   "source": [
    "'pa'[2:]"
   ]
  },
  {
   "cell_type": "code",
   "execution_count": null,
   "id": "4f64f065",
   "metadata": {},
   "outputs": [],
   "source": []
  }
 ],
 "metadata": {
  "kernelspec": {
   "display_name": "Python 3 (ipykernel)",
   "language": "python",
   "name": "python3"
  },
  "language_info": {
   "codemirror_mode": {
    "name": "ipython",
    "version": 3
   },
   "file_extension": ".py",
   "mimetype": "text/x-python",
   "name": "python",
   "nbconvert_exporter": "python",
   "pygments_lexer": "ipython3",
   "version": "3.10.7"
  }
 },
 "nbformat": 4,
 "nbformat_minor": 5
}
