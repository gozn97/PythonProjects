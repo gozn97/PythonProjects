{
 "cells": [
  {
   "cell_type": "code",
   "execution_count": 12,
   "id": "ecc1bbf7",
   "metadata": {},
   "outputs": [
    {
     "name": "stdout",
     "output_type": "stream",
     "text": [
      "0\n"
     ]
    }
   ],
   "source": [
    "str = 'aeiou'\n",
    "prev_str = ''\n",
    "n_doubles = 0\n",
    "for c in str:\n",
    "    if prev_str == c:\n",
    "        n_doubles= n_doubles +1 \n",
    "    prev_str = c\n",
    "print(n_doubles)"
   ]
  },
  {
   "cell_type": "code",
   "execution_count": 19,
   "id": "6846a19f",
   "metadata": {},
   "outputs": [
    {
     "name": "stdout",
     "output_type": "stream",
     "text": [
      "{'domestico': ['cane', 'gatto'], 'selvatico': ['leopardo', 'zebra']}\n"
     ]
    }
   ],
   "source": [
    "d = {\n",
    "    \"cane\": \"domestico\",\n",
    "    \"gatto\": \"domestico\",\n",
    "    \"leopardo\": \"selvatico\",\n",
    "    \"zebra\": \"selvatico\"\n",
    "}\n",
    "\n",
    "d_inv = {}\n",
    "for k,v in d.items():\n",
    "    if v not in d_inv:\n",
    "        d_inv[v]=[]\n",
    "    d_inv[v].append(k)\n",
    "print(d_inv)"
   ]
  },
  {
   "cell_type": "code",
   "execution_count": 21,
   "id": "57f1dcc9",
   "metadata": {},
   "outputs": [
    {
     "name": "stdout",
     "output_type": "stream",
     "text": [
      "{'Roma': 'Italia', 'Napoli': 'Italia', 'Barcelona': 'Spagna'}\n"
     ]
    }
   ],
   "source": [
    "elenco_citta = dict()\n",
    "elenco_citta['Roma'] = 'Francia'\n",
    "elenco_citta['Roma'] = 'Italia'\n",
    "elenco_citta['Napoli'] = 'Italia'\n",
    "elenco_citta['Barcelona'] = 'Spagna'\n",
    "print(elenco_citta)"
   ]
  },
  {
   "cell_type": "code",
   "execution_count": 26,
   "id": "46cea8ed",
   "metadata": {},
   "outputs": [
    {
     "name": "stdout",
     "output_type": "stream",
     "text": [
      "['Ailati', 'Angaps']\n"
     ]
    }
   ],
   "source": [
    "lista = [ value[::-1].lower().capitalize() for key, value in elenco_citta.items() if 'r' in key or 'R' in key]\n",
    "print(lista)"
   ]
  }
 ],
 "metadata": {
  "kernelspec": {
   "display_name": "Python 3 (ipykernel)",
   "language": "python",
   "name": "python3"
  },
  "language_info": {
   "codemirror_mode": {
    "name": "ipython",
    "version": 3
   },
   "file_extension": ".py",
   "mimetype": "text/x-python",
   "name": "python",
   "nbconvert_exporter": "python",
   "pygments_lexer": "ipython3",
   "version": "3.10.7"
  }
 },
 "nbformat": 4,
 "nbformat_minor": 5
}
